{
 "cells": [
  {
   "cell_type": "markdown",
   "metadata": {},
   "source": [
    "# Socio-demographic data analysis"
   ]
  },
  {
   "cell_type": "code",
   "execution_count": 1,
   "metadata": {},
   "outputs": [],
   "source": [
    "from matplotlib import pyplot as plt\n",
    "import pandas as pd\n",
    "import numpy as np"
   ]
  },
  {
   "cell_type": "code",
   "execution_count": 2,
   "metadata": {},
   "outputs": [
    {
     "data": {
      "text/plain": [
       "'2.1.0'"
      ]
     },
     "execution_count": 2,
     "metadata": {},
     "output_type": "execute_result"
    }
   ],
   "source": [
    "import tensorflow as tf\n",
    "from tensorflow.keras import Model, optimizers\n",
    "from tensorflow.keras import backend as K\n",
    "from tensorflow.keras.layers import Input, Lambda, Dense, BatchNormalization, Dropout, Activation, Concatenate\n",
    "from tensorflow.keras.models import load_model\n",
    "from tensorflow.keras.callbacks import EarlyStopping, ModelCheckpoint\n",
    "\n",
    "tf.__version__"
   ]
  },
  {
   "cell_type": "code",
   "execution_count": 3,
   "metadata": {},
   "outputs": [],
   "source": [
    "from clr_callback import CyclicLR"
   ]
  },
  {
   "cell_type": "code",
   "execution_count": 4,
   "metadata": {},
   "outputs": [],
   "source": [
    "%matplotlib inline"
   ]
  },
  {
   "cell_type": "markdown",
   "metadata": {},
   "source": [
    "## Load the dataset"
   ]
  },
  {
   "cell_type": "code",
   "execution_count": 5,
   "metadata": {},
   "outputs": [],
   "source": [
    "df = pd.read_csv(\"data/user_exo_2M.csv\", sep=\",\")"
   ]
  },
  {
   "cell_type": "code",
   "execution_count": 6,
   "metadata": {},
   "outputs": [
    {
     "data": {
      "text/html": [
       "<div>\n",
       "<style scoped>\n",
       "    .dataframe tbody tr th:only-of-type {\n",
       "        vertical-align: middle;\n",
       "    }\n",
       "\n",
       "    .dataframe tbody tr th {\n",
       "        vertical-align: top;\n",
       "    }\n",
       "\n",
       "    .dataframe thead th {\n",
       "        text-align: right;\n",
       "    }\n",
       "</style>\n",
       "<table border=\"1\" class=\"dataframe\">\n",
       "  <thead>\n",
       "    <tr style=\"text-align: right;\">\n",
       "      <th></th>\n",
       "      <th>yob</th>\n",
       "      <th>domain</th>\n",
       "      <th>firstname</th>\n",
       "      <th>zipcode</th>\n",
       "      <th>gender</th>\n",
       "    </tr>\n",
       "  </thead>\n",
       "  <tbody>\n",
       "    <tr>\n",
       "      <th>0</th>\n",
       "      <td>1985</td>\n",
       "      <td>@wanadoo.fr</td>\n",
       "      <td>b08253b305fb5ec</td>\n",
       "      <td>94450.0</td>\n",
       "      <td>F</td>\n",
       "    </tr>\n",
       "    <tr>\n",
       "      <th>1</th>\n",
       "      <td>1961</td>\n",
       "      <td>@sfr.fr</td>\n",
       "      <td>7ff135854376850</td>\n",
       "      <td>78580.0</td>\n",
       "      <td>M</td>\n",
       "    </tr>\n",
       "    <tr>\n",
       "      <th>2</th>\n",
       "      <td>1977</td>\n",
       "      <td>@free.fr</td>\n",
       "      <td>172522ec1028ab7</td>\n",
       "      <td>62640.0</td>\n",
       "      <td>NaN</td>\n",
       "    </tr>\n",
       "    <tr>\n",
       "      <th>3</th>\n",
       "      <td>-1</td>\n",
       "      <td>@hotmail.com</td>\n",
       "      <td>d3ca5dde60f88db</td>\n",
       "      <td>94100.0</td>\n",
       "      <td>M</td>\n",
       "    </tr>\n",
       "    <tr>\n",
       "      <th>4</th>\n",
       "      <td>-1</td>\n",
       "      <td>@gmail.com</td>\n",
       "      <td>bdaae16837dd576</td>\n",
       "      <td>78100.0</td>\n",
       "      <td>NaN</td>\n",
       "    </tr>\n",
       "  </tbody>\n",
       "</table>\n",
       "</div>"
      ],
      "text/plain": [
       "    yob        domain        firstname  zipcode gender\n",
       "0  1985   @wanadoo.fr  b08253b305fb5ec  94450.0      F\n",
       "1  1961       @sfr.fr  7ff135854376850  78580.0      M\n",
       "2  1977      @free.fr  172522ec1028ab7  62640.0    NaN\n",
       "3    -1  @hotmail.com  d3ca5dde60f88db  94100.0      M\n",
       "4    -1    @gmail.com  bdaae16837dd576  78100.0    NaN"
      ]
     },
     "execution_count": 6,
     "metadata": {},
     "output_type": "execute_result"
    }
   ],
   "source": [
    "df.head()"
   ]
  },
  {
   "cell_type": "markdown",
   "metadata": {},
   "source": [
    "## Enrich data"
   ]
  },
  {
   "cell_type": "code",
   "execution_count": 7,
   "metadata": {},
   "outputs": [],
   "source": [
    "df_splitted = df[\"domain\"].str.split(\".\", expand=True)\n",
    "df[\"domain_provider\"] = df_splitted[0]\n",
    "df[\"domain_origin\"] = df_splitted[1]"
   ]
  },
  {
   "cell_type": "code",
   "execution_count": 8,
   "metadata": {},
   "outputs": [],
   "source": [
    "df[\"departement\"] = df[\"zipcode\"].astype(str).str.slice(start=0, stop=2)\n",
    "df.loc[df[\"departement\"] == \"na\", \"departement\"] = np.nan\n",
    "df.loc[df[\"departement\"] == \"0.\", [\"departement\", \"zipcode\"]] = np.nan\n",
    "df[\"departement\"] = df[\"departement\"].astype(float)"
   ]
  },
  {
   "cell_type": "code",
   "execution_count": 9,
   "metadata": {},
   "outputs": [],
   "source": [
    "df.loc[df[\"yob\"] == -1, \"yob\"] = np.nan"
   ]
  },
  {
   "cell_type": "markdown",
   "metadata": {},
   "source": [
    "## Exploration"
   ]
  },
  {
   "cell_type": "code",
   "execution_count": 10,
   "metadata": {},
   "outputs": [
    {
     "data": {
      "text/plain": [
       "yob                40.00000\n",
       "domain              0.00000\n",
       "firstname           0.00000\n",
       "zipcode             0.94485\n",
       "gender             40.24770\n",
       "domain_provider     0.00000\n",
       "domain_origin       0.00000\n",
       "departement         0.94485\n",
       "dtype: float64"
      ]
     },
     "execution_count": 10,
     "metadata": {},
     "output_type": "execute_result"
    }
   ],
   "source": [
    "(df.isnull().sum() / len(df) * 100)"
   ]
  },
  {
   "cell_type": "code",
   "execution_count": 11,
   "metadata": {},
   "outputs": [
    {
     "data": {
      "text/plain": [
       "Text(0.5, 1.0, 'Percentage of missing values')"
      ]
     },
     "execution_count": 11,
     "metadata": {},
     "output_type": "execute_result"
    },
    {
     "data": {
      "image/png": "[encoded data removed]",
      "text/plain": [
       "<Figure size 360x360 with 1 Axes>"
      ]
     },
     "metadata": {
      "needs_background": "light"
     },
     "output_type": "display_data"
    }
   ],
   "source": [
    "fig, ax = plt.subplots(figsize=(5, 5))\n",
    "(df.isnull().sum() / len(df) * 100).plot.bar(ax=ax)\n",
    "plt.xlabel(\"Columns\")\n",
    "plt.ylabel(\"Percentage\")\n",
    "plt.title(\"Percentage of missing values\")"
   ]
  },
  {
   "cell_type": "code",
   "execution_count": 12,
   "metadata": {},
   "outputs": [
    {
     "data": {
      "text/plain": [
       "Text(0.5, 1.0, 'Distribution of Year of birth')"
      ]
     },
     "execution_count": 12,
     "metadata": {},
     "output_type": "execute_result"
    },
    {
     "data": {
      "image/png": "[encoded data removed]",
      "text/plain": [
       "<Figure size 360x360 with 1 Axes>"
      ]
     },
     "metadata": {
      "needs_background": "light"
     },
     "output_type": "display_data"
    }
   ],
   "source": [
    "fig, ax = plt.subplots(figsize=(5, 5))\n",
    "df[\"yob\"].hist(ax=ax)\n",
    "plt.xlabel(\"Year of birth\")\n",
    "plt.ylabel(\"Frequency\")\n",
    "plt.title(\"Distribution of Year of birth\")"
   ]
  },
  {
   "cell_type": "code",
   "execution_count": 13,
   "metadata": {},
   "outputs": [
    {
     "data": {
      "text/plain": [
       "Text(0.5, 1.0, 'Distribution of Gender')"
      ]
     },
     "execution_count": 13,
     "metadata": {},
     "output_type": "execute_result"
    },
    {
     "data": {
      "image/png": "[encoded data removed]",
      "text/plain": [
       "<Figure size 360x360 with 1 Axes>"
      ]
     },
     "metadata": {
      "needs_background": "light"
     },
     "output_type": "display_data"
    }
   ],
   "source": [
    "fig, ax = plt.subplots(figsize=(5, 5))\n",
    "df[\"gender\"].hist(ax=ax)\n",
    "plt.xlabel(\"Gender\")\n",
    "plt.ylabel(\"Frequency\")\n",
    "plt.title(\"Distribution of Gender\")"
   ]
  },
  {
   "cell_type": "code",
   "execution_count": 14,
   "metadata": {},
   "outputs": [
    {
     "data": {
      "text/plain": [
       "Text(0.5, 1.0, 'Distribution of Departement')"
      ]
     },
     "execution_count": 14,
     "metadata": {},
     "output_type": "execute_result"
    },
    {
     "data": {
      "image/png": "[encoded data removed]",
      "text/plain": [
       "<Figure size 1440x360 with 1 Axes>"
      ]
     },
     "metadata": {
      "needs_background": "light"
     },
     "output_type": "display_data"
    }
   ],
   "source": [
    "fig, ax = plt.subplots(figsize=(20, 5))\n",
    "df.loc[~df[\"departement\"].isnull(), \"departement\"].astype(int).astype(str).sort_values().hist(ax=ax)\n",
    "plt.xlabel(\"Departement\")\n",
    "plt.ylabel(\"Frequency\")\n",
    "plt.title(\"Distribution of Departement\")"
   ]
  },
  {
   "cell_type": "code",
   "execution_count": 15,
   "metadata": {},
   "outputs": [
    {
     "data": {
      "text/plain": [
       "Text(0.5, 1.0, 'Distribution of domain provider')"
      ]
     },
     "execution_count": 15,
     "metadata": {},
     "output_type": "execute_result"
    },
    {
     "data": {
      "image/png": "[encoded data removed]",
      "text/plain": [
       "<Figure size 2160x360 with 1 Axes>"
      ]
     },
     "metadata": {
      "needs_background": "light"
     },
     "output_type": "display_data"
    }
   ],
   "source": [
    "fig, ax = plt.subplots(figsize=(30, 5))\n",
    "df[\"domain_provider\"].hist(ax=ax)\n",
    "plt.xlabel(\"Domain provider\")\n",
    "plt.ylabel(\"Frequency\")\n",
    "plt.title(\"Distribution of domain provider\")"
   ]
  },
  {
   "cell_type": "code",
   "execution_count": 16,
   "metadata": {},
   "outputs": [
    {
     "data": {
      "text/plain": [
       "Text(0.5, 1.0, 'Distribution of domain origin')"
      ]
     },
     "execution_count": 16,
     "metadata": {},
     "output_type": "execute_result"
    },
    {
     "data": {
      "image/png": "[encoded data removed]",
      "text/plain": [
       "<Figure size 360x360 with 1 Axes>"
      ]
     },
     "metadata": {
      "needs_background": "light"
     },
     "output_type": "display_data"
    }
   ],
   "source": [
    "fig, ax = plt.subplots(figsize=(5, 5))\n",
    "df[\"domain_origin\"].hist(ax=ax)\n",
    "plt.xlabel(\"Domain origin\")\n",
    "plt.ylabel(\"Frequency\")\n",
    "plt.title(\"Distribution of domain origin\")"
   ]
  },
  {
   "cell_type": "code",
   "execution_count": 17,
   "metadata": {},
   "outputs": [
    {
     "data": {
      "text/plain": [
       "Text(0.5, 1.0, 'Distribution of firstname')"
      ]
     },
     "execution_count": 17,
     "metadata": {},
     "output_type": "execute_result"
    },
    {
     "data": {
      "image/png": "[encoded data removed]",
      "text/plain": [
       "<Figure size 2160x360 with 1 Axes>"
      ]
     },
     "metadata": {
      "needs_background": "light"
     },
     "output_type": "display_data"
    }
   ],
   "source": [
    "fig, ax = plt.subplots(figsize=(30, 5))\n",
    "df.groupby([\"firstname\"]).size().sort_values(ascending=False).head(30).plot.bar(ax=ax)\n",
    "plt.xlabel(\"Firstname\")\n",
    "plt.ylabel(\"Frequency\")\n",
    "plt.title(\"Distribution of firstname\")"
   ]
  },
  {
   "cell_type": "markdown",
   "metadata": {},
   "source": [
    "## Replace missing zip codes"
   ]
  },
  {
   "cell_type": "code",
   "execution_count": 18,
   "metadata": {},
   "outputs": [],
   "source": [
    "df.loc[df[\"zipcode\"].isnull(), \"zipcode\"] =  df[\"zipcode\"].mean()\n",
    "df.loc[df[\"departement\"].isnull(), \"departement\"] =  df[\"departement\"].mean()"
   ]
  },
  {
   "cell_type": "code",
   "execution_count": 19,
   "metadata": {},
   "outputs": [],
   "source": [
    "features = [\"zipcode\"]"
   ]
  },
  {
   "cell_type": "markdown",
   "metadata": {},
   "source": [
    "## Encoding"
   ]
  },
  {
   "cell_type": "code",
   "execution_count": 20,
   "metadata": {},
   "outputs": [],
   "source": [
    "def binary_encoder(dt, col, encoded_values, nb_bits):\n",
    "    '''\n",
    "    Separate the specified column into n columns, one for each character of\n",
    "    the first row of the column (excepted the first and last character)\n",
    "\n",
    "    Args:\n",
    "        dt(pandas.DataFrame): The data\n",
    "        col(str): The name of the column to be separated\n",
    "        encoded_values(list of string): the Base N encoded values\n",
    "        nb_bits(int): number of bits in codes\n",
    "\n",
    "    Returns:\n",
    "        bool: True if successfull\n",
    "    '''\n",
    "    for i in range(nb_bits):\n",
    "        col_name = col + '_' + (str)(i)\n",
    "        dt.loc[:, col_name] = [int(encoded_value[i]) for encoded_value in encoded_values]\n",
    "\n",
    "    return True\n",
    "\n",
    "\n",
    "def gray_code_encoder(n):\n",
    "    '''\n",
    "    Calculate all gray code encodings with a n bit vector\n",
    "\n",
    "    Args:\n",
    "        n(int): The number of bits of the encoding vector\n",
    "\n",
    "    Returns:\n",
    "        list of str: The encoded list of gray code\n",
    "    '''\n",
    "    if n == 0:\n",
    "        return ['']\n",
    "\n",
    "    code1 = gray_code_encoder(n - 1)\n",
    "    code2 = []\n",
    "    for codeWord in code1:\n",
    "        code2 = [codeWord] + code2\n",
    "\n",
    "    for i in range(len(code1)):\n",
    "        code1[i] += '0'\n",
    "\n",
    "    for i in range(len(code2)):\n",
    "        code2[i] += '1'\n",
    "\n",
    "    return code1 + code2\n",
    "\n",
    "\n",
    "def gray_code(dt, column, values):\n",
    "    '''\n",
    "    Save the information of the column <column> of the pandas.DataFrame <dt> into a\n",
    "    Gray code encoder, stored into N columns named : <column>_gray_<i> with i between 1 and N.\n",
    "    \n",
    "    Args:\n",
    "        dt(pandas.DataFrame): The data\n",
    "        column(str): The name of the column to encode\n",
    "        values(list): all possible values\n",
    "\n",
    "    Returns:\n",
    "        bool: True if successfull\n",
    "    '''\n",
    "    column_name = column + '_gray'\n",
    "    length = len(values)\n",
    "    nb_bits = (length - 1).bit_length()\n",
    "    print(\"%d bits needed to encode %d values for column %s\" % (nb_bits, length, column))\n",
    "\n",
    "    code = gray_code_encoder(nb_bits)\n",
    "    encoded_values = [code[values.index(value)] if value == value else code[values.index('default')] for value in dt[column]]\n",
    "    return binary_encoder(dt, column_name, encoded_values, nb_bits)"
   ]
  },
  {
   "cell_type": "markdown",
   "metadata": {},
   "source": [
    "### Encode the domain"
   ]
  },
  {
   "cell_type": "code",
   "execution_count": 21,
   "metadata": {},
   "outputs": [],
   "source": [
    "possible_values = sorted(df[\"domain\"].unique().tolist())"
   ]
  },
  {
   "cell_type": "code",
   "execution_count": 22,
   "metadata": {},
   "outputs": [
    {
     "name": "stdout",
     "output_type": "stream",
     "text": [
      "6 bits needed to encode 43 values for column domain\n"
     ]
    },
    {
     "data": {
      "text/plain": [
       "True"
      ]
     },
     "execution_count": 22,
     "metadata": {},
     "output_type": "execute_result"
    }
   ],
   "source": [
    "gray_code(df, \"domain\", possible_values)"
   ]
  },
  {
   "cell_type": "code",
   "execution_count": 23,
   "metadata": {},
   "outputs": [],
   "source": [
    "features += [col for col in df.columns if \"domain\" in col and \"gray\" in col]"
   ]
  },
  {
   "cell_type": "markdown",
   "metadata": {},
   "source": [
    "### Encode the firstname"
   ]
  },
  {
   "cell_type": "code",
   "execution_count": 24,
   "metadata": {},
   "outputs": [],
   "source": [
    "possible_values = sorted(df[\"firstname\"].unique().tolist())"
   ]
  },
  {
   "cell_type": "code",
   "execution_count": 25,
   "metadata": {},
   "outputs": [
    {
     "name": "stdout",
     "output_type": "stream",
     "text": [
      "14 bits needed to encode 15682 values for column firstname\n"
     ]
    },
    {
     "data": {
      "text/plain": [
       "True"
      ]
     },
     "execution_count": 25,
     "metadata": {},
     "output_type": "execute_result"
    }
   ],
   "source": [
    "gray_code(df, \"firstname\", possible_values)"
   ]
  },
  {
   "cell_type": "code",
   "execution_count": 26,
   "metadata": {},
   "outputs": [],
   "source": [
    "features += [col for col in df.columns if \"firstname\" in col and \"gray\" in col]"
   ]
  },
  {
   "cell_type": "markdown",
   "metadata": {},
   "source": [
    "## Features normalization"
   ]
  },
  {
   "cell_type": "code",
   "execution_count": 27,
   "metadata": {},
   "outputs": [
    {
     "data": {
      "text/plain": [
       "['zipcode',\n",
       " 'domain_gray_0',\n",
       " 'domain_gray_1',\n",
       " 'domain_gray_2',\n",
       " 'domain_gray_3',\n",
       " 'domain_gray_4',\n",
       " 'domain_gray_5',\n",
       " 'firstname_gray_0',\n",
       " 'firstname_gray_1',\n",
       " 'firstname_gray_2',\n",
       " 'firstname_gray_3',\n",
       " 'firstname_gray_4',\n",
       " 'firstname_gray_5',\n",
       " 'firstname_gray_6',\n",
       " 'firstname_gray_7',\n",
       " 'firstname_gray_8',\n",
       " 'firstname_gray_9',\n",
       " 'firstname_gray_10',\n",
       " 'firstname_gray_11',\n",
       " 'firstname_gray_12',\n",
       " 'firstname_gray_13']"
      ]
     },
     "execution_count": 27,
     "metadata": {},
     "output_type": "execute_result"
    }
   ],
   "source": [
    "features"
   ]
  },
  {
   "cell_type": "code",
   "execution_count": 28,
   "metadata": {},
   "outputs": [],
   "source": [
    "mean = df[features].mean(axis=0)\n",
    "std = df[features].std(axis=0)"
   ]
  },
  {
   "cell_type": "code",
   "execution_count": 29,
   "metadata": {},
   "outputs": [],
   "source": [
    "df[features] = (df[features] - mean) / std"
   ]
  },
  {
   "cell_type": "markdown",
   "metadata": {},
   "source": [
    "## Gender dataset building"
   ]
  },
  {
   "cell_type": "code",
   "execution_count": 30,
   "metadata": {},
   "outputs": [],
   "source": [
    "train_val_gender = df[~df[\"gender\"].isnull()].reset_index(drop=True)\n",
    "test_gender = df[df[\"gender\"].isnull()].copy()\n",
    "\n",
    "train_indicices = np.random.randint(0, len(train_val_gender), size=int(len(train_val_gender) * 0.8))\n",
    "\n",
    "train_gender = train_val_gender.iloc[train_indicices].copy()\n",
    "val_gender = train_val_gender.loc[~train_val_gender.index.isin(train_indicices)].copy()"
   ]
  },
  {
   "cell_type": "markdown",
   "metadata": {},
   "source": [
    "## Gender column one hot encoding"
   ]
  },
  {
   "cell_type": "code",
   "execution_count": 31,
   "metadata": {},
   "outputs": [],
   "source": [
    "def one_hot_encoder(x, possible_values):\n",
    "    '''\n",
    "    One hot encoder\n",
    "\n",
    "    Args:\n",
    "        x(keras tensor): Tensor contraining values to encode\n",
    "        possible_values(list): list of possible values\n",
    "\n",
    "    Returns:\n",
    "        (keras tensor): one hot encoded tensor\n",
    "    '''\n",
    "    one_hot_tensors = list()\n",
    "    for possible_value in possible_values:\n",
    "        one_hot_tensor = cast(x == possible_value, dtype=tf.float32)\n",
    "        one_hot_tensors.append(one_hot_tensor)\n",
    "    \n",
    "    return tf.concat(one_hot_tensors, axis=-1)\n",
    "\n",
    "def cast(x, dtype):\n",
    "    '''\n",
    "    Cast values to dtype\n",
    "    \n",
    "    Args:\n",
    "        x(keras tensor or numpy.ndarray): The values to cast\n",
    "        dtype(tensorflow dtype): The dtype to cast values to\n",
    "        \n",
    "    Returns:\n",
    "        keras tensor: casted values\n",
    "    '''\n",
    "    if type(x) == np.ndarray and dtype == tf.string:\n",
    "        x = x.astype(str)\n",
    "        \n",
    "    if type(x) == list and dtype == tf.string:\n",
    "        x = np.array(x).astype(str)\n",
    "    \n",
    "    return tf.cast(x, dtype)"
   ]
  },
  {
   "cell_type": "code",
   "execution_count": 32,
   "metadata": {},
   "outputs": [],
   "source": [
    "possible_labels = sorted(list(set(\n",
    "    train_gender[\"gender\"].unique().tolist()\n",
    "    + val_gender[\"gender\"].unique().tolist()\n",
    ")))"
   ]
  },
  {
   "cell_type": "code",
   "execution_count": 33,
   "metadata": {},
   "outputs": [
    {
     "data": {
      "text/plain": [
       "['F', 'M']"
      ]
     },
     "execution_count": 33,
     "metadata": {},
     "output_type": "execute_result"
    }
   ],
   "source": [
    "possible_labels"
   ]
  },
  {
   "cell_type": "code",
   "execution_count": 34,
   "metadata": {},
   "outputs": [],
   "source": [
    "train_gender[\"gender_hot_encoded\"] = one_hot_encoder(train_gender[[\"gender\"]].values, possible_labels).numpy()[:, 0].tolist()\n",
    "val_gender[\"gender_hot_encoded\"] = one_hot_encoder(val_gender[[\"gender\"]].values, possible_labels).numpy()[:, 0].tolist()"
   ]
  },
  {
   "cell_type": "markdown",
   "metadata": {},
   "source": [
    "## Gender model network definition"
   ]
  },
  {
   "cell_type": "code",
   "execution_count": 35,
   "metadata": {},
   "outputs": [],
   "source": [
    "K.clear_session()"
   ]
  },
  {
   "cell_type": "code",
   "execution_count": 36,
   "metadata": {},
   "outputs": [],
   "source": [
    "hidden_activation = 'tanh'\n",
    "n_hidden = 64\n",
    "n_layers = 2\n",
    "drop_prob = 0\n",
    "batch_normalization = True"
   ]
  },
  {
   "cell_type": "code",
   "execution_count": 37,
   "metadata": {},
   "outputs": [
    {
     "name": "stdout",
     "output_type": "stream",
     "text": [
      "Model: \"model\"\n",
      "_________________________________________________________________\n",
      "Layer (type)                 Output Shape              Param #   \n",
      "=================================================================\n",
      "main_input (InputLayer)      [(None, 21)]              0         \n",
      "_________________________________________________________________\n",
      "dense_0 (Dense)              (None, 64)                1408      \n",
      "_________________________________________________________________\n",
      "batch_normalization_0 (Batch (None, 64)                256       \n",
      "_________________________________________________________________\n",
      "activation_0 (Activation)    (None, 64)                0         \n",
      "_________________________________________________________________\n",
      "dropout_0 (Dropout)          (None, 64)                0         \n",
      "_________________________________________________________________\n",
      "dense_1 (Dense)              (None, 64)                4160      \n",
      "_________________________________________________________________\n",
      "batch_normalization_1 (Batch (None, 64)                256       \n",
      "_________________________________________________________________\n",
      "activation_1 (Activation)    (None, 64)                0         \n",
      "_________________________________________________________________\n",
      "dropout_1 (Dropout)          (None, 64)                0         \n",
      "_________________________________________________________________\n",
      "output (Dense)               (None, 1)                 65        \n",
      "=================================================================\n",
      "Total params: 6,145\n",
      "Trainable params: 5,889\n",
      "Non-trainable params: 256\n",
      "_________________________________________________________________\n"
     ]
    }
   ],
   "source": [
    "main_input = Input(shape=(len(features)), dtype=tf.float32, name=\"main_input\")\n",
    "\n",
    "X = main_input\n",
    "\n",
    "for i in range(n_layers):\n",
    "\n",
    "    X = Dense(n_hidden, name='dense_'+str(i))(X)\n",
    "    X = BatchNormalization(axis=-1, name='batch_normalization_'+str(i))(X) if batch_normalization else Activation(\"linear\", name='main_identity_'+str(i))(X)\n",
    "    X = Activation(hidden_activation, name='activation_'+str(i))(X)\n",
    "    X = Dropout(drop_prob, name='dropout_'+str(i))(X)\n",
    "\n",
    "output = Dense(1, activation=\"sigmoid\", name=\"output\")(X)\n",
    "\n",
    "model_gender = Model(inputs=main_input, outputs=output)\n",
    "\n",
    "model_gender.summary()"
   ]
  },
  {
   "cell_type": "code",
   "execution_count": 38,
   "metadata": {},
   "outputs": [],
   "source": [
    "model_gender.compile(optimizer='adam', loss=tf.keras.losses.BinaryCrossentropy(), metrics=[\"accuracy\"])"
   ]
  },
  {
   "cell_type": "code",
   "execution_count": 39,
   "metadata": {},
   "outputs": [],
   "source": [
    "epochs = 1000\n",
    "batch_size = 500\n",
    "patience = 20\n",
    "lr = 0.001"
   ]
  },
  {
   "cell_type": "code",
   "execution_count": 40,
   "metadata": {},
   "outputs": [],
   "source": [
    "mcp_save = ModelCheckpoint(\"./model_gender\", save_best_only=True, monitor='val_loss', mode='min', save_freq='epoch')\n",
    "early_stopping = EarlyStopping(monitor='val_loss', mode='min', patience=patience)\n",
    "clr_callback = CyclicLR(\n",
    "    base_lr=lr*0.5,\n",
    "    max_lr=lr*1.5,\n",
    "    step_size=5*len(train_gender)/batch_size,\n",
    "    mode='triangular'\n",
    ")\n",
    "callbacks = [mcp_save, early_stopping, clr_callback]"
   ]
  },
  {
   "cell_type": "code",
   "execution_count": 41,
   "metadata": {},
   "outputs": [
    {
     "name": "stdout",
     "output_type": "stream",
     "text": [
      "Train on 956036 samples, validate on 537200 samples\n",
      "Epoch 1/1000\n",
      "953000/956036 [============================>.] - ETA: 0s - loss: 0.4429 - accuracy: 0.7984WARNING:tensorflow:From /Library/Frameworks/Python.framework/Versions/3.7/lib/python3.7/site-packages/tensorflow_core/python/ops/resource_variable_ops.py:1786: calling BaseResourceVariable.__init__ (from tensorflow.python.ops.resource_variable_ops) with constraint is deprecated and will be removed in a future version.\n",
      "Instructions for updating:\n",
      "If using Keras pass *_constraint arguments to layers.\n",
      "INFO:tensorflow:Assets written to: ./model_gender/assets\n",
      "956036/956036 [==============================] - 6s 7us/sample - loss: 0.4425 - accuracy: 0.7986 - val_loss: 0.3260 - val_accuracy: 0.8720\n",
      "Epoch 2/1000\n",
      "945000/956036 [============================>.] - ETA: 0s - loss: 0.2950 - accuracy: 0.8901INFO:tensorflow:Assets written to: ./model_gender/assets\n",
      "956036/956036 [==============================] - 6s 6us/sample - loss: 0.2947 - accuracy: 0.8903 - val_loss: 0.2731 - val_accuracy: 0.9019\n",
      "Epoch 3/1000\n",
      "947500/956036 [============================>.] - ETA: 0s - loss: 0.2631 - accuracy: 0.9073INFO:tensorflow:Assets written to: ./model_gender/assets\n",
      "956036/956036 [==============================] - 6s 6us/sample - loss: 0.2630 - accuracy: 0.9073 - val_loss: 0.2612 - val_accuracy: 0.9101\n",
      "Epoch 4/1000\n",
      "951500/956036 [============================>.] - ETA: 0s - loss: 0.2513 - accuracy: 0.9139INFO:tensorflow:Assets written to: ./model_gender/assets\n",
      "956036/956036 [==============================] - 6s 6us/sample - loss: 0.2513 - accuracy: 0.9139 - val_loss: 0.2494 - val_accuracy: 0.9163\n",
      "Epoch 5/1000\n",
      "950500/956036 [============================>.] - ETA: 0s - loss: 0.2445 - accuracy: 0.9181INFO:tensorflow:Assets written to: ./model_gender/assets\n",
      "956036/956036 [==============================] - 6s 6us/sample - loss: 0.2446 - accuracy: 0.9180 - val_loss: 0.2442 - val_accuracy: 0.9185\n",
      "Epoch 6/1000\n",
      "947500/956036 [============================>.] - ETA: 0s - loss: 0.2382 - accuracy: 0.9215INFO:tensorflow:Assets written to: ./model_gender/assets\n",
      "956036/956036 [==============================] - 6s 6us/sample - loss: 0.2383 - accuracy: 0.9215 - val_loss: 0.2381 - val_accuracy: 0.9215\n",
      "Epoch 7/1000\n",
      "947000/956036 [============================>.] - ETA: 0s - loss: 0.2328 - accuracy: 0.9239INFO:tensorflow:Assets written to: ./model_gender/assets\n",
      "956036/956036 [==============================] - 6s 6us/sample - loss: 0.2329 - accuracy: 0.9239 - val_loss: 0.2346 - val_accuracy: 0.9233\n",
      "Epoch 8/1000\n",
      "945000/956036 [============================>.] - ETA: 0s - loss: 0.2285 - accuracy: 0.9260INFO:tensorflow:Assets written to: ./model_gender/assets\n",
      "956036/956036 [==============================] - 6s 6us/sample - loss: 0.2284 - accuracy: 0.9260 - val_loss: 0.2325 - val_accuracy: 0.9242\n",
      "Epoch 9/1000\n",
      "947000/956036 [============================>.] - ETA: 0s - loss: 0.2250 - accuracy: 0.9277INFO:tensorflow:Assets written to: ./model_gender/assets\n",
      "956036/956036 [==============================] - 6s 6us/sample - loss: 0.2250 - accuracy: 0.9276 - val_loss: 0.2282 - val_accuracy: 0.9258\n",
      "Epoch 10/1000\n",
      "954500/956036 [============================>.] - ETA: 0s - loss: 0.2218 - accuracy: 0.9288INFO:tensorflow:Assets written to: ./model_gender/assets\n",
      "956036/956036 [==============================] - 6s 6us/sample - loss: 0.2217 - accuracy: 0.9288 - val_loss: 0.2271 - val_accuracy: 0.9265\n",
      "Epoch 11/1000\n",
      "956036/956036 [==============================] - 5s 5us/sample - loss: 0.2208 - accuracy: 0.9295 - val_loss: 0.2276 - val_accuracy: 0.9264\n",
      "Epoch 12/1000\n",
      "956036/956036 [==============================] - 5s 5us/sample - loss: 0.2218 - accuracy: 0.9293 - val_loss: 0.2283 - val_accuracy: 0.9265\n",
      "Epoch 13/1000\n",
      "956036/956036 [==============================] - 5s 5us/sample - loss: 0.2226 - accuracy: 0.9293 - val_loss: 0.2293 - val_accuracy: 0.9268\n",
      "Epoch 14/1000\n",
      "956036/956036 [==============================] - 5s 5us/sample - loss: 0.2234 - accuracy: 0.9293 - val_loss: 0.2329 - val_accuracy: 0.9257\n",
      "Epoch 15/1000\n",
      "956036/956036 [==============================] - 5s 5us/sample - loss: 0.2239 - accuracy: 0.9292 - val_loss: 0.2293 - val_accuracy: 0.9271\n",
      "Epoch 16/1000\n",
      "956036/956036 [==============================] - 5s 5us/sample - loss: 0.2228 - accuracy: 0.9296 - val_loss: 0.2275 - val_accuracy: 0.9271\n",
      "Epoch 17/1000\n",
      "945500/956036 [============================>.] - ETA: 0s - loss: 0.2204 - accuracy: 0.9305INFO:tensorflow:Assets written to: ./model_gender/assets\n",
      "956036/956036 [==============================] - 6s 6us/sample - loss: 0.2204 - accuracy: 0.9305 - val_loss: 0.2248 - val_accuracy: 0.9285\n",
      "Epoch 18/1000\n",
      "947500/956036 [============================>.] - ETA: 0s - loss: 0.2180 - accuracy: 0.9315INFO:tensorflow:Assets written to: ./model_gender/assets\n",
      "956036/956036 [==============================] - 6s 6us/sample - loss: 0.2181 - accuracy: 0.9315 - val_loss: 0.2231 - val_accuracy: 0.9288\n",
      "Epoch 19/1000\n",
      "946500/956036 [============================>.] - ETA: 0s - loss: 0.2159 - accuracy: 0.9322INFO:tensorflow:Assets written to: ./model_gender/assets\n",
      "956036/956036 [==============================] - 6s 6us/sample - loss: 0.2158 - accuracy: 0.9322 - val_loss: 0.2219 - val_accuracy: 0.9295\n",
      "Epoch 20/1000\n",
      "946500/956036 [============================>.] - ETA: 0s - loss: 0.2137 - accuracy: 0.9331INFO:tensorflow:Assets written to: ./model_gender/assets\n",
      "956036/956036 [==============================] - 6s 6us/sample - loss: 0.2137 - accuracy: 0.9331 - val_loss: 0.2201 - val_accuracy: 0.9303\n",
      "Epoch 21/1000\n",
      "956036/956036 [==============================] - 5s 5us/sample - loss: 0.2132 - accuracy: 0.9334 - val_loss: 0.2220 - val_accuracy: 0.9303\n",
      "Epoch 22/1000\n",
      "956036/956036 [==============================] - 5s 5us/sample - loss: 0.2146 - accuracy: 0.9331 - val_loss: 0.2220 - val_accuracy: 0.9300\n",
      "Epoch 23/1000\n",
      "956036/956036 [==============================] - 5s 5us/sample - loss: 0.2158 - accuracy: 0.9329 - val_loss: 0.2242 - val_accuracy: 0.9298\n",
      "Epoch 24/1000\n",
      "956036/956036 [==============================] - 5s 5us/sample - loss: 0.2171 - accuracy: 0.9323 - val_loss: 0.2249 - val_accuracy: 0.9293\n",
      "Epoch 25/1000\n",
      "956036/956036 [==============================] - 5s 5us/sample - loss: 0.2184 - accuracy: 0.9320 - val_loss: 0.2261 - val_accuracy: 0.9288\n",
      "Epoch 26/1000\n",
      "956036/956036 [==============================] - 5s 5us/sample - loss: 0.2177 - accuracy: 0.9322 - val_loss: 0.2226 - val_accuracy: 0.9302\n",
      "Epoch 27/1000\n",
      "956036/956036 [==============================] - 5s 5us/sample - loss: 0.2158 - accuracy: 0.9328 - val_loss: 0.2215 - val_accuracy: 0.9306\n",
      "Epoch 28/1000\n",
      "956036/956036 [==============================] - 5s 5us/sample - loss: 0.2140 - accuracy: 0.9333 - val_loss: 0.2205 - val_accuracy: 0.9309\n",
      "Epoch 29/1000\n",
      "951500/956036 [============================>.] - ETA: 0s - loss: 0.2123 - accuracy: 0.9340INFO:tensorflow:Assets written to: ./model_gender/assets\n",
      "956036/956036 [==============================] - 6s 6us/sample - loss: 0.2122 - accuracy: 0.9340 - val_loss: 0.2181 - val_accuracy: 0.9316\n",
      "Epoch 30/1000\n",
      "956000/956036 [============================>.] - ETA: 0s - loss: 0.2104 - accuracy: 0.9347INFO:tensorflow:Assets written to: ./model_gender/assets\n",
      "956036/956036 [==============================] - 6s 6us/sample - loss: 0.2104 - accuracy: 0.9347 - val_loss: 0.2172 - val_accuracy: 0.9317\n",
      "Epoch 31/1000\n",
      "956036/956036 [==============================] - 5s 5us/sample - loss: 0.2100 - accuracy: 0.9350 - val_loss: 0.2186 - val_accuracy: 0.9315\n",
      "Epoch 32/1000\n",
      "956036/956036 [==============================] - 5s 5us/sample - loss: 0.2115 - accuracy: 0.9346 - val_loss: 0.2192 - val_accuracy: 0.9317\n",
      "Epoch 33/1000\n",
      "956036/956036 [==============================] - 5s 5us/sample - loss: 0.2127 - accuracy: 0.9342 - val_loss: 0.2203 - val_accuracy: 0.9310\n",
      "Epoch 34/1000\n",
      "956036/956036 [==============================] - 5s 5us/sample - loss: 0.2141 - accuracy: 0.9338 - val_loss: 0.2238 - val_accuracy: 0.9301\n",
      "Epoch 35/1000\n",
      "956036/956036 [==============================] - 5s 5us/sample - loss: 0.2155 - accuracy: 0.9331 - val_loss: 0.2218 - val_accuracy: 0.9308\n",
      "Epoch 36/1000\n",
      "956036/956036 [==============================] - 5s 5us/sample - loss: 0.2150 - accuracy: 0.9332 - val_loss: 0.2209 - val_accuracy: 0.9310\n",
      "Epoch 37/1000\n",
      "956036/956036 [==============================] - 5s 5us/sample - loss: 0.2137 - accuracy: 0.9339 - val_loss: 0.2192 - val_accuracy: 0.9316\n",
      "Epoch 38/1000\n",
      "956036/956036 [==============================] - 5s 5us/sample - loss: 0.2118 - accuracy: 0.9346 - val_loss: 0.2175 - val_accuracy: 0.9319\n",
      "Epoch 39/1000\n",
      "944500/956036 [============================>.] - ETA: 0s - loss: 0.2102 - accuracy: 0.9350INFO:tensorflow:Assets written to: ./model_gender/assets\n",
      "956036/956036 [==============================] - 6s 6us/sample - loss: 0.2103 - accuracy: 0.9350 - val_loss: 0.2168 - val_accuracy: 0.9322\n",
      "Epoch 40/1000\n",
      "952500/956036 [============================>.] - ETA: 0s - loss: 0.2084 - accuracy: 0.9357INFO:tensorflow:Assets written to: ./model_gender/assets\n",
      "956036/956036 [==============================] - 6s 6us/sample - loss: 0.2084 - accuracy: 0.9357 - val_loss: 0.2161 - val_accuracy: 0.9325\n",
      "Epoch 41/1000\n",
      "956036/956036 [==============================] - 5s 5us/sample - loss: 0.2085 - accuracy: 0.9358 - val_loss: 0.2162 - val_accuracy: 0.9327\n",
      "Epoch 42/1000\n",
      "956036/956036 [==============================] - 5s 6us/sample - loss: 0.2098 - accuracy: 0.9353 - val_loss: 0.2179 - val_accuracy: 0.9321\n",
      "Epoch 43/1000\n",
      "956036/956036 [==============================] - 5s 5us/sample - loss: 0.2112 - accuracy: 0.9351 - val_loss: 0.2198 - val_accuracy: 0.9320\n",
      "Epoch 44/1000\n",
      "956036/956036 [==============================] - 5s 5us/sample - loss: 0.2124 - accuracy: 0.9345 - val_loss: 0.2196 - val_accuracy: 0.9317\n",
      "Epoch 45/1000\n",
      "956036/956036 [==============================] - 5s 5us/sample - loss: 0.2134 - accuracy: 0.9342 - val_loss: 0.2200 - val_accuracy: 0.9317\n",
      "Epoch 46/1000\n",
      "956036/956036 [==============================] - 5s 5us/sample - loss: 0.2135 - accuracy: 0.9341 - val_loss: 0.2194 - val_accuracy: 0.9318\n",
      "Epoch 47/1000\n",
      "956036/956036 [==============================] - 5s 5us/sample - loss: 0.2119 - accuracy: 0.9345 - val_loss: 0.2184 - val_accuracy: 0.9315\n",
      "Epoch 48/1000\n",
      "956036/956036 [==============================] - 5s 5us/sample - loss: 0.2105 - accuracy: 0.9351 - val_loss: 0.2180 - val_accuracy: 0.9323\n",
      "Epoch 49/1000\n",
      "956036/956036 [==============================] - 5s 5us/sample - loss: 0.2090 - accuracy: 0.9358 - val_loss: 0.2162 - val_accuracy: 0.9327\n",
      "Epoch 50/1000\n",
      "949500/956036 [============================>.] - ETA: 0s - loss: 0.2072 - accuracy: 0.9362INFO:tensorflow:Assets written to: ./model_gender/assets\n",
      "956036/956036 [==============================] - 6s 6us/sample - loss: 0.2072 - accuracy: 0.9362 - val_loss: 0.2151 - val_accuracy: 0.9333\n",
      "Epoch 51/1000\n",
      "956036/956036 [==============================] - 5s 5us/sample - loss: 0.2073 - accuracy: 0.9363 - val_loss: 0.2158 - val_accuracy: 0.9331\n",
      "Epoch 52/1000\n",
      "956036/956036 [==============================] - 5s 5us/sample - loss: 0.2086 - accuracy: 0.9359 - val_loss: 0.2165 - val_accuracy: 0.9327\n",
      "Epoch 53/1000\n",
      "956036/956036 [==============================] - 5s 5us/sample - loss: 0.2098 - accuracy: 0.9356 - val_loss: 0.2182 - val_accuracy: 0.9318\n",
      "Epoch 54/1000\n",
      "956036/956036 [==============================] - 5s 5us/sample - loss: 0.2110 - accuracy: 0.9351 - val_loss: 0.2184 - val_accuracy: 0.9318\n",
      "Epoch 55/1000\n",
      "956036/956036 [==============================] - 5s 5us/sample - loss: 0.2122 - accuracy: 0.9348 - val_loss: 0.2197 - val_accuracy: 0.9318\n",
      "Epoch 56/1000\n",
      "956036/956036 [==============================] - 5s 5us/sample - loss: 0.2121 - accuracy: 0.9346 - val_loss: 0.2183 - val_accuracy: 0.9323\n",
      "Epoch 57/1000\n",
      "956036/956036 [==============================] - 5s 5us/sample - loss: 0.2106 - accuracy: 0.9352 - val_loss: 0.2172 - val_accuracy: 0.9324\n",
      "Epoch 58/1000\n",
      "956036/956036 [==============================] - 5s 5us/sample - loss: 0.2094 - accuracy: 0.9357 - val_loss: 0.2165 - val_accuracy: 0.9330\n",
      "Epoch 59/1000\n",
      "955000/956036 [============================>.] - ETA: 0s - loss: 0.2079 - accuracy: 0.9361INFO:tensorflow:Assets written to: ./model_gender/assets\n",
      "956036/956036 [==============================] - 6s 6us/sample - loss: 0.2079 - accuracy: 0.9361 - val_loss: 0.2150 - val_accuracy: 0.9334\n",
      "Epoch 60/1000\n",
      "954500/956036 [============================>.] - ETA: 0s - loss: 0.2066 - accuracy: 0.9366INFO:tensorflow:Assets written to: ./model_gender/assets\n",
      "956036/956036 [==============================] - 6s 6us/sample - loss: 0.2066 - accuracy: 0.9366 - val_loss: 0.2144 - val_accuracy: 0.9336\n",
      "Epoch 61/1000\n",
      "956036/956036 [==============================] - 5s 5us/sample - loss: 0.2064 - accuracy: 0.9366 - val_loss: 0.2154 - val_accuracy: 0.9334\n",
      "Epoch 62/1000\n",
      "956036/956036 [==============================] - 5s 5us/sample - loss: 0.2076 - accuracy: 0.9364 - val_loss: 0.2159 - val_accuracy: 0.9333\n",
      "Epoch 63/1000\n",
      "956036/956036 [==============================] - 5s 5us/sample - loss: 0.2087 - accuracy: 0.9361 - val_loss: 0.2170 - val_accuracy: 0.9332\n",
      "Epoch 64/1000\n",
      "956036/956036 [==============================] - 5s 5us/sample - loss: 0.2101 - accuracy: 0.9357 - val_loss: 0.2185 - val_accuracy: 0.9326\n",
      "Epoch 65/1000\n",
      "956036/956036 [==============================] - 5s 5us/sample - loss: 0.2113 - accuracy: 0.9351 - val_loss: 0.2190 - val_accuracy: 0.9323\n",
      "Epoch 66/1000\n",
      "956036/956036 [==============================] - 5s 5us/sample - loss: 0.2111 - accuracy: 0.9351 - val_loss: 0.2165 - val_accuracy: 0.9329\n",
      "Epoch 67/1000\n",
      "956036/956036 [==============================] - 5s 5us/sample - loss: 0.2097 - accuracy: 0.9356 - val_loss: 0.2162 - val_accuracy: 0.9331\n",
      "Epoch 68/1000\n",
      "956036/956036 [==============================] - 5s 5us/sample - loss: 0.2085 - accuracy: 0.9360 - val_loss: 0.2161 - val_accuracy: 0.9334\n",
      "Epoch 69/1000\n",
      "948500/956036 [============================>.] - ETA: 0s - loss: 0.2075 - accuracy: 0.9365INFO:tensorflow:Assets written to: ./model_gender/assets\n",
      "956036/956036 [==============================] - 6s 6us/sample - loss: 0.2074 - accuracy: 0.9365 - val_loss: 0.2142 - val_accuracy: 0.9337\n",
      "Epoch 70/1000\n",
      "954000/956036 [============================>.] - ETA: 0s - loss: 0.2062 - accuracy: 0.9369INFO:tensorflow:Assets written to: ./model_gender/assets\n",
      "956036/956036 [==============================] - 6s 6us/sample - loss: 0.2061 - accuracy: 0.9369 - val_loss: 0.2139 - val_accuracy: 0.9339\n",
      "Epoch 71/1000\n",
      "956036/956036 [==============================] - 5s 5us/sample - loss: 0.2058 - accuracy: 0.9370 - val_loss: 0.2149 - val_accuracy: 0.9339\n",
      "Epoch 72/1000\n",
      "956036/956036 [==============================] - 5s 5us/sample - loss: 0.2068 - accuracy: 0.9367 - val_loss: 0.2154 - val_accuracy: 0.9333\n",
      "Epoch 73/1000\n",
      "956036/956036 [==============================] - 5s 5us/sample - loss: 0.2081 - accuracy: 0.9362 - val_loss: 0.2162 - val_accuracy: 0.9333\n",
      "Epoch 74/1000\n",
      "956036/956036 [==============================] - 5s 5us/sample - loss: 0.2093 - accuracy: 0.9359 - val_loss: 0.2174 - val_accuracy: 0.9328\n",
      "Epoch 75/1000\n",
      "956036/956036 [==============================] - 5s 5us/sample - loss: 0.2104 - accuracy: 0.9356 - val_loss: 0.2188 - val_accuracy: 0.9326\n",
      "Epoch 76/1000\n",
      "956036/956036 [==============================] - 5s 5us/sample - loss: 0.2105 - accuracy: 0.9354 - val_loss: 0.2165 - val_accuracy: 0.9330\n",
      "Epoch 77/1000\n",
      "956036/956036 [==============================] - 5s 5us/sample - loss: 0.2092 - accuracy: 0.9358 - val_loss: 0.2159 - val_accuracy: 0.9330\n",
      "Epoch 78/1000\n",
      "956036/956036 [==============================] - 5s 5us/sample - loss: 0.2079 - accuracy: 0.9362 - val_loss: 0.2160 - val_accuracy: 0.9336\n",
      "Epoch 79/1000\n",
      "956036/956036 [==============================] - 5s 5us/sample - loss: 0.2067 - accuracy: 0.9366 - val_loss: 0.2139 - val_accuracy: 0.9338\n",
      "Epoch 80/1000\n",
      "953500/956036 [============================>.] - ETA: 0s - loss: 0.2053 - accuracy: 0.9372INFO:tensorflow:Assets written to: ./model_gender/assets\n",
      "956036/956036 [==============================] - 6s 6us/sample - loss: 0.2054 - accuracy: 0.9372 - val_loss: 0.2136 - val_accuracy: 0.9342\n",
      "Epoch 81/1000\n",
      "956036/956036 [==============================] - 5s 5us/sample - loss: 0.2052 - accuracy: 0.9374 - val_loss: 0.2143 - val_accuracy: 0.9340\n",
      "Epoch 82/1000\n",
      "956036/956036 [==============================] - 5s 5us/sample - loss: 0.2064 - accuracy: 0.9369 - val_loss: 0.2150 - val_accuracy: 0.9336\n",
      "Epoch 83/1000\n",
      "956036/956036 [==============================] - 5s 5us/sample - loss: 0.2075 - accuracy: 0.9365 - val_loss: 0.2161 - val_accuracy: 0.9334\n",
      "Epoch 84/1000\n",
      "956036/956036 [==============================] - 5s 5us/sample - loss: 0.2088 - accuracy: 0.9361 - val_loss: 0.2166 - val_accuracy: 0.9332\n",
      "Epoch 85/1000\n",
      "956036/956036 [==============================] - 5s 5us/sample - loss: 0.2096 - accuracy: 0.9358 - val_loss: 0.2173 - val_accuracy: 0.9330\n",
      "Epoch 86/1000\n",
      "956036/956036 [==============================] - 5s 5us/sample - loss: 0.2096 - accuracy: 0.9358 - val_loss: 0.2167 - val_accuracy: 0.9333\n",
      "Epoch 87/1000\n",
      "956036/956036 [==============================] - 5s 5us/sample - loss: 0.2085 - accuracy: 0.9361 - val_loss: 0.2156 - val_accuracy: 0.9334\n",
      "Epoch 88/1000\n",
      "956036/956036 [==============================] - 5s 5us/sample - loss: 0.2074 - accuracy: 0.9365 - val_loss: 0.2145 - val_accuracy: 0.9338\n",
      "Epoch 89/1000\n",
      "956036/956036 [==============================] - 5s 5us/sample - loss: 0.2062 - accuracy: 0.9368 - val_loss: 0.2137 - val_accuracy: 0.9343\n",
      "Epoch 90/1000\n",
      "950500/956036 [============================>.] - ETA: 0s - loss: 0.2051 - accuracy: 0.9373INFO:tensorflow:Assets written to: ./model_gender/assets\n",
      "956036/956036 [==============================] - 6s 6us/sample - loss: 0.2051 - accuracy: 0.9373 - val_loss: 0.2131 - val_accuracy: 0.9345\n",
      "Epoch 91/1000\n",
      "956036/956036 [==============================] - 5s 5us/sample - loss: 0.2049 - accuracy: 0.9374 - val_loss: 0.2142 - val_accuracy: 0.9343\n",
      "Epoch 92/1000\n",
      "956036/956036 [==============================] - 5s 5us/sample - loss: 0.2060 - accuracy: 0.9370 - val_loss: 0.2144 - val_accuracy: 0.9341\n",
      "Epoch 93/1000\n",
      "956036/956036 [==============================] - 5s 5us/sample - loss: 0.2071 - accuracy: 0.9368 - val_loss: 0.2154 - val_accuracy: 0.9338\n",
      "Epoch 94/1000\n",
      "956036/956036 [==============================] - 5s 5us/sample - loss: 0.2081 - accuracy: 0.9364 - val_loss: 0.2169 - val_accuracy: 0.9333\n",
      "Epoch 95/1000\n",
      "956036/956036 [==============================] - 5s 5us/sample - loss: 0.2092 - accuracy: 0.9361 - val_loss: 0.2172 - val_accuracy: 0.9330\n",
      "Epoch 96/1000\n",
      "956036/956036 [==============================] - 5s 5us/sample - loss: 0.2091 - accuracy: 0.9361 - val_loss: 0.2156 - val_accuracy: 0.9337\n",
      "Epoch 97/1000\n",
      "956036/956036 [==============================] - 5s 5us/sample - loss: 0.2078 - accuracy: 0.9363 - val_loss: 0.2154 - val_accuracy: 0.9337\n",
      "Epoch 98/1000\n",
      "956036/956036 [==============================] - 5s 5us/sample - loss: 0.2070 - accuracy: 0.9367 - val_loss: 0.2139 - val_accuracy: 0.9341\n",
      "Epoch 99/1000\n",
      "956036/956036 [==============================] - 5s 5us/sample - loss: 0.2059 - accuracy: 0.9371 - val_loss: 0.2139 - val_accuracy: 0.9343\n",
      "Epoch 100/1000\n",
      "944500/956036 [============================>.] - ETA: 0s - loss: 0.2049 - accuracy: 0.9374INFO:tensorflow:Assets written to: ./model_gender/assets\n",
      "956036/956036 [==============================] - 6s 6us/sample - loss: 0.2048 - accuracy: 0.9375 - val_loss: 0.2126 - val_accuracy: 0.9346\n",
      "Epoch 101/1000\n",
      "956036/956036 [==============================] - 5s 5us/sample - loss: 0.2045 - accuracy: 0.9375 - val_loss: 0.2137 - val_accuracy: 0.9345\n",
      "Epoch 102/1000\n",
      "956036/956036 [==============================] - 5s 5us/sample - loss: 0.2055 - accuracy: 0.9374 - val_loss: 0.2145 - val_accuracy: 0.9342\n",
      "Epoch 103/1000\n",
      "956036/956036 [==============================] - 5s 5us/sample - loss: 0.2065 - accuracy: 0.9369 - val_loss: 0.2151 - val_accuracy: 0.9340\n",
      "Epoch 104/1000\n",
      "956036/956036 [==============================] - 5s 5us/sample - loss: 0.2076 - accuracy: 0.9366 - val_loss: 0.2158 - val_accuracy: 0.9337\n",
      "Epoch 105/1000\n",
      "956036/956036 [==============================] - 5s 5us/sample - loss: 0.2087 - accuracy: 0.9363 - val_loss: 0.2165 - val_accuracy: 0.9335\n",
      "Epoch 106/1000\n",
      "956036/956036 [==============================] - 5s 5us/sample - loss: 0.2087 - accuracy: 0.9363 - val_loss: 0.2154 - val_accuracy: 0.9336\n",
      "Epoch 107/1000\n",
      "956036/956036 [==============================] - 5s 5us/sample - loss: 0.2076 - accuracy: 0.9365 - val_loss: 0.2152 - val_accuracy: 0.9336\n",
      "Epoch 108/1000\n",
      "956036/956036 [==============================] - 5s 5us/sample - loss: 0.2066 - accuracy: 0.9369 - val_loss: 0.2140 - val_accuracy: 0.9343\n",
      "Epoch 109/1000\n",
      "956036/956036 [==============================] - 5s 5us/sample - loss: 0.2053 - accuracy: 0.9373 - val_loss: 0.2137 - val_accuracy: 0.9341\n",
      "Epoch 110/1000\n",
      "956036/956036 [==============================] - 5s 5us/sample - loss: 0.2043 - accuracy: 0.9376 - val_loss: 0.2126 - val_accuracy: 0.9347\n",
      "Epoch 111/1000\n",
      "956036/956036 [==============================] - 5s 5us/sample - loss: 0.2044 - accuracy: 0.9377 - val_loss: 0.2130 - val_accuracy: 0.9348\n",
      "Epoch 112/1000\n",
      "956036/956036 [==============================] - 5s 5us/sample - loss: 0.2053 - accuracy: 0.9375 - val_loss: 0.2137 - val_accuracy: 0.9345\n",
      "Epoch 113/1000\n",
      "956036/956036 [==============================] - 5s 5us/sample - loss: 0.2061 - accuracy: 0.9372 - val_loss: 0.2152 - val_accuracy: 0.9340\n",
      "Epoch 114/1000\n",
      "956036/956036 [==============================] - 5s 5us/sample - loss: 0.2073 - accuracy: 0.9367 - val_loss: 0.2158 - val_accuracy: 0.9338\n",
      "Epoch 115/1000\n",
      "956036/956036 [==============================] - 5s 5us/sample - loss: 0.2084 - accuracy: 0.9364 - val_loss: 0.2157 - val_accuracy: 0.9335\n",
      "Epoch 116/1000\n",
      "956036/956036 [==============================] - 5s 5us/sample - loss: 0.2084 - accuracy: 0.9364 - val_loss: 0.2151 - val_accuracy: 0.9338\n",
      "Epoch 117/1000\n",
      "956036/956036 [==============================] - 5s 5us/sample - loss: 0.2071 - accuracy: 0.9367 - val_loss: 0.2152 - val_accuracy: 0.9340\n",
      "Epoch 118/1000\n",
      "956036/956036 [==============================] - 5s 5us/sample - loss: 0.2064 - accuracy: 0.9370 - val_loss: 0.2138 - val_accuracy: 0.9344\n",
      "Epoch 119/1000\n",
      "956036/956036 [==============================] - 5s 5us/sample - loss: 0.2053 - accuracy: 0.9373 - val_loss: 0.2131 - val_accuracy: 0.9346\n",
      "Epoch 120/1000\n",
      "946000/956036 [============================>.] - ETA: 0s - loss: 0.2041 - accuracy: 0.9378INFO:tensorflow:Assets written to: ./model_gender/assets\n",
      "956036/956036 [==============================] - 6s 6us/sample - loss: 0.2040 - accuracy: 0.9378 - val_loss: 0.2126 - val_accuracy: 0.9349\n",
      "Epoch 121/1000\n",
      "956036/956036 [==============================] - 5s 5us/sample - loss: 0.2041 - accuracy: 0.9379 - val_loss: 0.2129 - val_accuracy: 0.9347\n",
      "Epoch 122/1000\n",
      "956036/956036 [==============================] - 5s 5us/sample - loss: 0.2050 - accuracy: 0.9375 - val_loss: 0.2149 - val_accuracy: 0.9342\n",
      "Epoch 123/1000\n",
      "956036/956036 [==============================] - 5s 5us/sample - loss: 0.2059 - accuracy: 0.9373 - val_loss: 0.2148 - val_accuracy: 0.9342\n",
      "Epoch 124/1000\n",
      "956036/956036 [==============================] - 5s 5us/sample - loss: 0.2069 - accuracy: 0.9368 - val_loss: 0.2153 - val_accuracy: 0.9339\n",
      "Epoch 125/1000\n",
      "956036/956036 [==============================] - 5s 5us/sample - loss: 0.2080 - accuracy: 0.9365 - val_loss: 0.2157 - val_accuracy: 0.9334\n",
      "Epoch 126/1000\n",
      "956036/956036 [==============================] - 5s 5us/sample - loss: 0.2080 - accuracy: 0.9366 - val_loss: 0.2152 - val_accuracy: 0.9338\n",
      "Epoch 127/1000\n",
      "956036/956036 [==============================] - 5s 5us/sample - loss: 0.2069 - accuracy: 0.9367 - val_loss: 0.2146 - val_accuracy: 0.9343\n",
      "Epoch 128/1000\n",
      "956036/956036 [==============================] - 5s 5us/sample - loss: 0.2060 - accuracy: 0.9372 - val_loss: 0.2143 - val_accuracy: 0.9339\n",
      "Epoch 129/1000\n",
      "956036/956036 [==============================] - 5s 5us/sample - loss: 0.2049 - accuracy: 0.9375 - val_loss: 0.2131 - val_accuracy: 0.9347\n",
      "Epoch 130/1000\n",
      "951000/956036 [============================>.] - ETA: 0s - loss: 0.2038 - accuracy: 0.9379INFO:tensorflow:Assets written to: ./model_gender/assets\n",
      "956036/956036 [==============================] - 6s 6us/sample - loss: 0.2038 - accuracy: 0.9378 - val_loss: 0.2123 - val_accuracy: 0.9349\n",
      "Epoch 131/1000\n",
      "956036/956036 [==============================] - 5s 5us/sample - loss: 0.2037 - accuracy: 0.9381 - val_loss: 0.2126 - val_accuracy: 0.9348\n",
      "Epoch 132/1000\n",
      "956036/956036 [==============================] - 5s 5us/sample - loss: 0.2045 - accuracy: 0.9378 - val_loss: 0.2141 - val_accuracy: 0.9345\n",
      "Epoch 133/1000\n",
      "956036/956036 [==============================] - 5s 5us/sample - loss: 0.2057 - accuracy: 0.9373 - val_loss: 0.2138 - val_accuracy: 0.9344\n",
      "Epoch 134/1000\n",
      "956036/956036 [==============================] - 5s 5us/sample - loss: 0.2066 - accuracy: 0.9371 - val_loss: 0.2152 - val_accuracy: 0.9340\n",
      "Epoch 135/1000\n",
      "956036/956036 [==============================] - 5s 5us/sample - loss: 0.2076 - accuracy: 0.9367 - val_loss: 0.2163 - val_accuracy: 0.9334\n",
      "Epoch 136/1000\n",
      "956036/956036 [==============================] - 5s 5us/sample - loss: 0.2074 - accuracy: 0.9367 - val_loss: 0.2149 - val_accuracy: 0.9340\n",
      "Epoch 137/1000\n",
      "956036/956036 [==============================] - 5s 5us/sample - loss: 0.2067 - accuracy: 0.9369 - val_loss: 0.2145 - val_accuracy: 0.9338\n",
      "Epoch 138/1000\n",
      "956036/956036 [==============================] - 5s 5us/sample - loss: 0.2057 - accuracy: 0.9373 - val_loss: 0.2139 - val_accuracy: 0.9343\n",
      "Epoch 139/1000\n",
      "956036/956036 [==============================] - 5s 5us/sample - loss: 0.2046 - accuracy: 0.9376 - val_loss: 0.2126 - val_accuracy: 0.9347\n",
      "Epoch 140/1000\n",
      "955500/956036 [============================>.] - ETA: 0s - loss: 0.2035 - accuracy: 0.9380INFO:tensorflow:Assets written to: ./model_gender/assets\n",
      "956036/956036 [==============================] - 6s 6us/sample - loss: 0.2036 - accuracy: 0.9380 - val_loss: 0.2121 - val_accuracy: 0.9349\n",
      "Epoch 141/1000\n",
      "956036/956036 [==============================] - 5s 5us/sample - loss: 0.2036 - accuracy: 0.9380 - val_loss: 0.2129 - val_accuracy: 0.9346\n",
      "Epoch 142/1000\n",
      "956036/956036 [==============================] - 5s 5us/sample - loss: 0.2045 - accuracy: 0.9378 - val_loss: 0.2138 - val_accuracy: 0.9345\n",
      "Epoch 143/1000\n",
      "956036/956036 [==============================] - 5s 5us/sample - loss: 0.2056 - accuracy: 0.9374 - val_loss: 0.2142 - val_accuracy: 0.9343\n",
      "Epoch 144/1000\n",
      "956036/956036 [==============================] - 5s 5us/sample - loss: 0.2066 - accuracy: 0.9370 - val_loss: 0.2151 - val_accuracy: 0.9341\n",
      "Epoch 145/1000\n",
      "956036/956036 [==============================] - 5s 5us/sample - loss: 0.2074 - accuracy: 0.9368 - val_loss: 0.2157 - val_accuracy: 0.9339\n",
      "Epoch 146/1000\n",
      "956036/956036 [==============================] - 5s 5us/sample - loss: 0.2072 - accuracy: 0.9369 - val_loss: 0.2152 - val_accuracy: 0.9338\n",
      "Epoch 147/1000\n",
      "956036/956036 [==============================] - 5s 5us/sample - loss: 0.2065 - accuracy: 0.9370 - val_loss: 0.2141 - val_accuracy: 0.9344\n",
      "Epoch 148/1000\n",
      "956036/956036 [==============================] - 5s 5us/sample - loss: 0.2054 - accuracy: 0.9375 - val_loss: 0.2139 - val_accuracy: 0.9344\n",
      "Epoch 149/1000\n",
      "956036/956036 [==============================] - 5s 5us/sample - loss: 0.2045 - accuracy: 0.9376 - val_loss: 0.2126 - val_accuracy: 0.9348\n",
      "Epoch 150/1000\n",
      "956036/956036 [==============================] - 5s 5us/sample - loss: 0.2036 - accuracy: 0.9382 - val_loss: 0.2121 - val_accuracy: 0.9349\n",
      "Epoch 151/1000\n",
      "956036/956036 [==============================] - 5s 5us/sample - loss: 0.2035 - accuracy: 0.9380 - val_loss: 0.2129 - val_accuracy: 0.9348\n",
      "Epoch 152/1000\n",
      "956036/956036 [==============================] - 5s 5us/sample - loss: 0.2044 - accuracy: 0.9379 - val_loss: 0.2134 - val_accuracy: 0.9346\n",
      "Epoch 153/1000\n",
      "956036/956036 [==============================] - 5s 5us/sample - loss: 0.2052 - accuracy: 0.9376 - val_loss: 0.2145 - val_accuracy: 0.9343\n",
      "Epoch 154/1000\n",
      "956036/956036 [==============================] - 5s 5us/sample - loss: 0.2061 - accuracy: 0.9373 - val_loss: 0.2148 - val_accuracy: 0.9342\n",
      "Epoch 155/1000\n",
      "956036/956036 [==============================] - 5s 5us/sample - loss: 0.2070 - accuracy: 0.9370 - val_loss: 0.2153 - val_accuracy: 0.9341\n",
      "Epoch 156/1000\n",
      "956036/956036 [==============================] - 5s 5us/sample - loss: 0.2071 - accuracy: 0.9368 - val_loss: 0.2149 - val_accuracy: 0.9340\n",
      "Epoch 157/1000\n",
      "956036/956036 [==============================] - 5s 5us/sample - loss: 0.2063 - accuracy: 0.9371 - val_loss: 0.2141 - val_accuracy: 0.9345\n",
      "Epoch 158/1000\n",
      "956036/956036 [==============================] - 5s 5us/sample - loss: 0.2053 - accuracy: 0.9375 - val_loss: 0.2131 - val_accuracy: 0.9346\n",
      "Epoch 159/1000\n",
      "956036/956036 [==============================] - 5s 5us/sample - loss: 0.2041 - accuracy: 0.9377 - val_loss: 0.2134 - val_accuracy: 0.9347\n",
      "Epoch 160/1000\n",
      "949000/956036 [============================>.] - ETA: 0s - loss: 0.2034 - accuracy: 0.9381INFO:tensorflow:Assets written to: ./model_gender/assets\n",
      "956036/956036 [==============================] - 6s 6us/sample - loss: 0.2034 - accuracy: 0.9381 - val_loss: 0.2121 - val_accuracy: 0.9351\n",
      "Epoch 161/1000\n",
      "956036/956036 [==============================] - 5s 5us/sample - loss: 0.2032 - accuracy: 0.9381 - val_loss: 0.2127 - val_accuracy: 0.9350\n",
      "Epoch 162/1000\n",
      "956036/956036 [==============================] - 5s 5us/sample - loss: 0.2044 - accuracy: 0.9378 - val_loss: 0.2133 - val_accuracy: 0.9347\n",
      "Epoch 163/1000\n",
      "956036/956036 [==============================] - 5s 5us/sample - loss: 0.2052 - accuracy: 0.9376 - val_loss: 0.2141 - val_accuracy: 0.9344\n",
      "Epoch 164/1000\n",
      "956036/956036 [==============================] - 5s 5us/sample - loss: 0.2060 - accuracy: 0.9372 - val_loss: 0.2144 - val_accuracy: 0.9344\n",
      "Epoch 165/1000\n",
      "956036/956036 [==============================] - 5s 5us/sample - loss: 0.2069 - accuracy: 0.9371 - val_loss: 0.2156 - val_accuracy: 0.9339\n",
      "Epoch 166/1000\n",
      "956036/956036 [==============================] - 5s 5us/sample - loss: 0.2068 - accuracy: 0.9370 - val_loss: 0.2144 - val_accuracy: 0.9345\n",
      "Epoch 167/1000\n",
      "956036/956036 [==============================] - 5s 5us/sample - loss: 0.2061 - accuracy: 0.9372 - val_loss: 0.2140 - val_accuracy: 0.9344\n",
      "Epoch 168/1000\n",
      "956036/956036 [==============================] - 5s 5us/sample - loss: 0.2052 - accuracy: 0.9374 - val_loss: 0.2132 - val_accuracy: 0.9346\n",
      "Epoch 169/1000\n",
      "956036/956036 [==============================] - 5s 5us/sample - loss: 0.2041 - accuracy: 0.9377 - val_loss: 0.2122 - val_accuracy: 0.9349\n",
      "Epoch 170/1000\n",
      "945500/956036 [============================>.] - ETA: 0s - loss: 0.2032 - accuracy: 0.9381INFO:tensorflow:Assets written to: ./model_gender/assets\n",
      "956036/956036 [==============================] - 6s 6us/sample - loss: 0.2032 - accuracy: 0.9382 - val_loss: 0.2119 - val_accuracy: 0.9352\n",
      "Epoch 171/1000\n",
      "956036/956036 [==============================] - 5s 5us/sample - loss: 0.2032 - accuracy: 0.9384 - val_loss: 0.2125 - val_accuracy: 0.9349\n",
      "Epoch 172/1000\n",
      "956036/956036 [==============================] - 5s 5us/sample - loss: 0.2039 - accuracy: 0.9380 - val_loss: 0.2131 - val_accuracy: 0.9348\n",
      "Epoch 173/1000\n",
      "956036/956036 [==============================] - 6s 6us/sample - loss: 0.2048 - accuracy: 0.9377 - val_loss: 0.2136 - val_accuracy: 0.9347\n",
      "Epoch 174/1000\n",
      "956036/956036 [==============================] - 7s 8us/sample - loss: 0.2056 - accuracy: 0.9374 - val_loss: 0.2145 - val_accuracy: 0.9342\n",
      "Epoch 175/1000\n",
      "956036/956036 [==============================] - 8s 8us/sample - loss: 0.2066 - accuracy: 0.9370 - val_loss: 0.2155 - val_accuracy: 0.9338\n",
      "Epoch 176/1000\n",
      "956036/956036 [==============================] - 5s 6us/sample - loss: 0.2068 - accuracy: 0.9369 - val_loss: 0.2149 - val_accuracy: 0.9343\n",
      "Epoch 177/1000\n",
      "956036/956036 [==============================] - 5s 6us/sample - loss: 0.2056 - accuracy: 0.9374 - val_loss: 0.2134 - val_accuracy: 0.9345\n",
      "Epoch 178/1000\n",
      "956036/956036 [==============================] - 5s 5us/sample - loss: 0.2050 - accuracy: 0.9375 - val_loss: 0.2130 - val_accuracy: 0.9346\n",
      "Epoch 179/1000\n",
      "956036/956036 [==============================] - 5s 5us/sample - loss: 0.2040 - accuracy: 0.9381 - val_loss: 0.2120 - val_accuracy: 0.9350\n",
      "Epoch 180/1000\n",
      "956036/956036 [==============================] - 5s 5us/sample - loss: 0.2030 - accuracy: 0.9382 - val_loss: 0.2119 - val_accuracy: 0.9353\n",
      "Epoch 181/1000\n",
      "956036/956036 [==============================] - 5s 5us/sample - loss: 0.2030 - accuracy: 0.9382 - val_loss: 0.2125 - val_accuracy: 0.9350\n",
      "Epoch 182/1000\n",
      "956036/956036 [==============================] - 5s 5us/sample - loss: 0.2039 - accuracy: 0.9381 - val_loss: 0.2131 - val_accuracy: 0.9349\n",
      "Epoch 183/1000\n",
      "956036/956036 [==============================] - 5s 5us/sample - loss: 0.2046 - accuracy: 0.9378 - val_loss: 0.2136 - val_accuracy: 0.9345\n",
      "Epoch 184/1000\n",
      "956036/956036 [==============================] - 5s 5us/sample - loss: 0.2057 - accuracy: 0.9375 - val_loss: 0.2146 - val_accuracy: 0.9346\n",
      "Epoch 185/1000\n",
      "956036/956036 [==============================] - 5s 5us/sample - loss: 0.2067 - accuracy: 0.9371 - val_loss: 0.2151 - val_accuracy: 0.9342\n",
      "Epoch 186/1000\n",
      "956036/956036 [==============================] - 5s 5us/sample - loss: 0.2063 - accuracy: 0.9372 - val_loss: 0.2143 - val_accuracy: 0.9343\n",
      "Epoch 187/1000\n",
      "956036/956036 [==============================] - 5s 5us/sample - loss: 0.2056 - accuracy: 0.9374 - val_loss: 0.2141 - val_accuracy: 0.9344\n",
      "Epoch 188/1000\n",
      "956036/956036 [==============================] - 5s 5us/sample - loss: 0.2048 - accuracy: 0.9378 - val_loss: 0.2126 - val_accuracy: 0.9349\n",
      "Epoch 189/1000\n",
      "956036/956036 [==============================] - 5s 5us/sample - loss: 0.2036 - accuracy: 0.9381 - val_loss: 0.2121 - val_accuracy: 0.9352\n",
      "Epoch 190/1000\n",
      "949000/956036 [============================>.] - ETA: 0s - loss: 0.2029 - accuracy: 0.9383INFO:tensorflow:Assets written to: ./model_gender/assets\n",
      "956036/956036 [==============================] - 6s 6us/sample - loss: 0.2028 - accuracy: 0.9383 - val_loss: 0.2114 - val_accuracy: 0.9352\n",
      "Epoch 191/1000\n",
      "956036/956036 [==============================] - 5s 5us/sample - loss: 0.2030 - accuracy: 0.9385 - val_loss: 0.2123 - val_accuracy: 0.9351\n",
      "Epoch 192/1000\n",
      "956036/956036 [==============================] - 5s 5us/sample - loss: 0.2038 - accuracy: 0.9380 - val_loss: 0.2131 - val_accuracy: 0.9351\n",
      "Epoch 193/1000\n",
      "956036/956036 [==============================] - 5s 5us/sample - loss: 0.2045 - accuracy: 0.9380 - val_loss: 0.2134 - val_accuracy: 0.9348\n",
      "Epoch 194/1000\n",
      "956036/956036 [==============================] - 5s 5us/sample - loss: 0.2054 - accuracy: 0.9375 - val_loss: 0.2143 - val_accuracy: 0.9344\n",
      "Epoch 195/1000\n",
      "956036/956036 [==============================] - 5s 5us/sample - loss: 0.2064 - accuracy: 0.9372 - val_loss: 0.2149 - val_accuracy: 0.9339\n",
      "Epoch 196/1000\n",
      "956036/956036 [==============================] - 5s 5us/sample - loss: 0.2062 - accuracy: 0.9373 - val_loss: 0.2135 - val_accuracy: 0.9346\n",
      "Epoch 197/1000\n",
      "956036/956036 [==============================] - 6s 6us/sample - loss: 0.2051 - accuracy: 0.9377 - val_loss: 0.2133 - val_accuracy: 0.9346\n",
      "Epoch 198/1000\n",
      "956036/956036 [==============================] - 5s 5us/sample - loss: 0.2046 - accuracy: 0.9378 - val_loss: 0.2125 - val_accuracy: 0.9347\n",
      "Epoch 199/1000\n",
      "956036/956036 [==============================] - 6s 6us/sample - loss: 0.2037 - accuracy: 0.9380 - val_loss: 0.2122 - val_accuracy: 0.9353\n",
      "Epoch 200/1000\n",
      "956036/956036 [==============================] - 6s 6us/sample - loss: 0.2029 - accuracy: 0.9383 - val_loss: 0.2117 - val_accuracy: 0.9355\n",
      "Epoch 201/1000\n",
      "956036/956036 [==============================] - 5s 6us/sample - loss: 0.2029 - accuracy: 0.9384 - val_loss: 0.2121 - val_accuracy: 0.9352\n",
      "Epoch 202/1000\n",
      "956036/956036 [==============================] - 6s 6us/sample - loss: 0.2038 - accuracy: 0.9382 - val_loss: 0.2132 - val_accuracy: 0.9349\n",
      "Epoch 203/1000\n",
      "956036/956036 [==============================] - 6s 6us/sample - loss: 0.2045 - accuracy: 0.9381 - val_loss: 0.2133 - val_accuracy: 0.9345\n",
      "Epoch 204/1000\n",
      "956036/956036 [==============================] - 6s 6us/sample - loss: 0.2056 - accuracy: 0.9376 - val_loss: 0.2139 - val_accuracy: 0.9345\n",
      "Epoch 205/1000\n",
      "956036/956036 [==============================] - 5s 6us/sample - loss: 0.2060 - accuracy: 0.9373 - val_loss: 0.2147 - val_accuracy: 0.9342\n",
      "Epoch 206/1000\n",
      "956036/956036 [==============================] - 5s 6us/sample - loss: 0.2064 - accuracy: 0.9372 - val_loss: 0.2138 - val_accuracy: 0.9346\n",
      "Epoch 207/1000\n",
      "956036/956036 [==============================] - 5s 6us/sample - loss: 0.2051 - accuracy: 0.9377 - val_loss: 0.2138 - val_accuracy: 0.9346\n",
      "Epoch 208/1000\n",
      "956036/956036 [==============================] - 6s 6us/sample - loss: 0.2043 - accuracy: 0.9379 - val_loss: 0.2128 - val_accuracy: 0.9347\n",
      "Epoch 209/1000\n",
      "956036/956036 [==============================] - 6s 6us/sample - loss: 0.2036 - accuracy: 0.9381 - val_loss: 0.2120 - val_accuracy: 0.9352\n",
      "Epoch 210/1000\n",
      "956036/956036 [==============================] - 6s 6us/sample - loss: 0.2025 - accuracy: 0.9385 - val_loss: 0.2117 - val_accuracy: 0.9353\n"
     ]
    }
   ],
   "source": [
    "history = model_gender.fit(train_gender[features], train_gender[\"gender_hot_encoded\"], shuffle=True, epochs=epochs, batch_size=batch_size,\n",
    "                    validation_data=(val_gender[features], val_gender[\"gender_hot_encoded\"]), verbose=1, callbacks=callbacks)"
   ]
  },
  {
   "cell_type": "code",
   "execution_count": 42,
   "metadata": {},
   "outputs": [],
   "source": [
    "model_gender = load_model(\"./model_gender\")"
   ]
  },
  {
   "cell_type": "code",
   "execution_count": 43,
   "metadata": {},
   "outputs": [],
   "source": [
    "train_gender[\"is_female_probability\"] = model_gender.predict(train_gender[features])\n",
    "val_gender[\"is_female_probability\"] = model_gender.predict(val_gender[features])\n",
    "test_gender[\"is_female_probability\"] = model_gender.predict(test_gender[features])"
   ]
  },
  {
   "cell_type": "code",
   "execution_count": 44,
   "metadata": {},
   "outputs": [],
   "source": [
    "df_gender = pd.concat([train_gender, val_gender, test_gender], axis=0)"
   ]
  },
  {
   "cell_type": "code",
   "execution_count": 45,
   "metadata": {},
   "outputs": [],
   "source": [
    "features += [\"is_female_probability\"]"
   ]
  },
  {
   "cell_type": "markdown",
   "metadata": {},
   "source": [
    "## Year of birth dataset building"
   ]
  },
  {
   "cell_type": "code",
   "execution_count": 46,
   "metadata": {},
   "outputs": [],
   "source": [
    "train_val_yob = df_gender[~df_gender[\"yob\"].isnull()].reset_index(drop=True)\n",
    "test_yob = df_gender[df_gender[\"yob\"].isnull()].copy()\n",
    "\n",
    "train_indicices = np.random.randint(0, len(train_val_yob), size=int(len(train_val_yob) * 0.8))\n",
    "\n",
    "train_yob = train_val_yob.iloc[train_indicices].copy()\n",
    "val_yob = train_val_yob.loc[~train_val_yob.index.isin(train_indicices)].copy()"
   ]
  },
  {
   "cell_type": "markdown",
   "metadata": {},
   "source": [
    "## Year of birth model definition"
   ]
  },
  {
   "cell_type": "code",
   "execution_count": 49,
   "metadata": {},
   "outputs": [],
   "source": [
    "K.clear_session()"
   ]
  },
  {
   "cell_type": "code",
   "execution_count": 50,
   "metadata": {},
   "outputs": [],
   "source": [
    "hidden_activation = 'tanh'\n",
    "n_hidden = 64\n",
    "n_layers = 2\n",
    "drop_prob = 0\n",
    "batch_normalization = True"
   ]
  },
  {
   "cell_type": "code",
   "execution_count": 51,
   "metadata": {},
   "outputs": [
    {
     "name": "stdout",
     "output_type": "stream",
     "text": [
      "Model: \"model\"\n",
      "_________________________________________________________________\n",
      "Layer (type)                 Output Shape              Param #   \n",
      "=================================================================\n",
      "main_input (InputLayer)      [(None, 22)]              0         \n",
      "_________________________________________________________________\n",
      "dense_0 (Dense)              (None, 64)                1472      \n",
      "_________________________________________________________________\n",
      "batch_normalization_0 (Batch (None, 64)                256       \n",
      "_________________________________________________________________\n",
      "activation_0 (Activation)    (None, 64)                0         \n",
      "_________________________________________________________________\n",
      "dropout_0 (Dropout)          (None, 64)                0         \n",
      "_________________________________________________________________\n",
      "dense_1 (Dense)              (None, 64)                4160      \n",
      "_________________________________________________________________\n",
      "batch_normalization_1 (Batch (None, 64)                256       \n",
      "_________________________________________________________________\n",
      "activation_1 (Activation)    (None, 64)                0         \n",
      "_________________________________________________________________\n",
      "dropout_1 (Dropout)          (None, 64)                0         \n",
      "_________________________________________________________________\n",
      "output (Dense)               (None, 1)                 65        \n",
      "=================================================================\n",
      "Total params: 6,209\n",
      "Trainable params: 5,953\n",
      "Non-trainable params: 256\n",
      "_________________________________________________________________\n"
     ]
    }
   ],
   "source": [
    "main_input = Input(shape=(len(features)), dtype=tf.float32, name=\"main_input\")\n",
    "\n",
    "X = main_input\n",
    "\n",
    "for i in range(n_layers):\n",
    "\n",
    "    X = Dense(n_hidden, name='dense_'+str(i))(X)\n",
    "    X = BatchNormalization(axis=-1, name='batch_normalization_'+str(i))(X) if batch_normalization else Activation(\"linear\", name='main_identity_'+str(i))(X)\n",
    "    X = Activation(hidden_activation, name='activation_'+str(i))(X)\n",
    "    X = Dropout(drop_prob, name='dropout_'+str(i))(X)\n",
    "\n",
    "output = Dense(1, activation=\"relu\", name=\"output\")(X)\n",
    "\n",
    "model_yob = Model(inputs=main_input, outputs=output)\n",
    "\n",
    "model_yob.summary()"
   ]
  },
  {
   "cell_type": "code",
   "execution_count": 52,
   "metadata": {},
   "outputs": [],
   "source": [
    "model_yob.compile(optimizer='adam', loss=tf.keras.losses.mse, metrics=[\"mae\", \"mape\"])"
   ]
  },
  {
   "cell_type": "code",
   "execution_count": 53,
   "metadata": {},
   "outputs": [],
   "source": [
    "epochs = 1000\n",
    "batch_size = 500\n",
    "patience = 20\n",
    "lr = 0.001"
   ]
  },
  {
   "cell_type": "code",
   "execution_count": 54,
   "metadata": {},
   "outputs": [],
   "source": [
    "mcp_save = ModelCheckpoint(\"./model_yob\", save_best_only=True, monitor='val_loss', mode='min', save_freq='epoch')\n",
    "early_stopping = EarlyStopping(monitor='val_loss', mode='min', patience=patience)\n",
    "clr_callback = CyclicLR(\n",
    "    base_lr=lr*0.5,\n",
    "    max_lr=lr*1.5,\n",
    "    step_size=5*len(train_yob)/batch_size,\n",
    "    mode='triangular'\n",
    ")\n",
    "callbacks = [mcp_save, early_stopping, clr_callback]"
   ]
  },
  {
   "cell_type": "code",
   "execution_count": 55,
   "metadata": {},
   "outputs": [
    {
     "name": "stdout",
     "output_type": "stream",
     "text": [
      "Train on 1118789 samples, validate on 628382 samples\n",
      "Epoch 1/1000\n",
      "1117000/1118789 [============================>.] - ETA: 0s - loss: 3765310.0022 - mae: 1940.0540 - mape: 98.1805INFO:tensorflow:Assets written to: ./model_yob/assets\n",
      "1118789/1118789 [==============================] - 8s 7us/sample - loss: 3765096.3663 - mae: 1939.9979 - mape: 98.1776 - val_loss: 3635280.5741 - val_mae: 1905.9030 - val_mape: 96.4513\n",
      "Epoch 2/1000\n",
      "1110500/1118789 [============================>.] - ETA: 0s - loss: 3499980.1487 - mae: 1868.9611 - mape: 94.5820INFO:tensorflow:Assets written to: ./model_yob/assets\n",
      "1118789/1118789 [==============================] - 7s 6us/sample - loss: 3498945.0258 - mae: 1868.6719 - mape: 94.5673 - val_loss: 3356843.1743 - val_mae: 1829.0247 - val_mape: 92.5598\n",
      "Epoch 3/1000\n",
      "1111000/1118789 [============================>.] - ETA: 0s - loss: 3203756.3856 - mae: 1784.1741 - mape: 90.2901INFO:tensorflow:Assets written to: ./model_yob/assets\n",
      "1118789/1118789 [==============================] - 7s 6us/sample - loss: 3202679.6323 - mae: 1783.8488 - mape: 90.2736 - val_loss: 3043937.9824 - val_mae: 1736.0060 - val_mape: 87.8514\n",
      "Epoch 4/1000\n",
      "1115500/1118789 [============================>.] - ETA: 0s - loss: 2877167.6879 - mae: 1682.4481 - mape: 85.1407INFO:tensorflow:Assets written to: ./model_yob/assets\n",
      "1118789/1118789 [==============================] - 7s 6us/sample - loss: 2876645.6291 - mae: 1682.2751 - mape: 85.1319 - val_loss: 2707782.7452 - val_mae: 1625.9982 - val_mape: 82.2829\n",
      "Epoch 5/1000\n",
      "1116000/1118789 [============================>.] - ETA: 0s - loss: 2536736.5786 - mae: 1564.1171 - mape: 79.1507INFO:tensorflow:Assets written to: ./model_yob/assets\n",
      "1118789/1118789 [==============================] - 7s 6us/sample - loss: 2536325.5643 - mae: 1563.9602 - mape: 79.1427 - val_loss: 2366932.1710 - val_mae: 1499.6113 - val_mape: 75.8854\n",
      "Epoch 6/1000\n",
      "1116500/1118789 [============================>.] - ETA: 0s - loss: 2214659.1140 - mae: 1435.6345 - mape: 72.6470INFO:tensorflow:Assets written to: ./model_yob/assets\n",
      "1118789/1118789 [==============================] - 7s 7us/sample - loss: 2214303.8042 - mae: 1435.4860 - mape: 72.6395 - val_loss: 2078368.6233 - val_mae: 1375.0123 - val_mape: 69.5783\n",
      "Epoch 7/1000\n",
      "1114500/1118789 [============================>.] - ETA: 0s - loss: 1967530.1092 - mae: 1320.2230 - mape: 66.8048INFO:tensorflow:Assets written to: ./model_yob/assets\n",
      "1118789/1118789 [==============================] - 7s 7us/sample - loss: 1967153.1935 - mae: 1320.0254 - mape: 66.7948 - val_loss: 1869379.1016 - val_mae: 1268.6761 - val_mape: 64.1957\n",
      "Epoch 8/1000\n",
      "1110500/1118789 [============================>.] - ETA: 0s - loss: 1790507.5026 - mae: 1222.8749 - mape: 61.8771INFO:tensorflow:Assets written to: ./model_yob/assets\n",
      "1118789/1118789 [==============================] - 7s 6us/sample - loss: 1790025.5679 - mae: 1222.5699 - mape: 61.8616 - val_loss: 1721544.4375 - val_mae: 1180.1276 - val_mape: 59.7135\n",
      "Epoch 9/1000\n",
      "1117500/1118789 [============================>.] - ETA: 0s - loss: 1666501.2772 - mae: 1142.7804 - mape: 57.8226INFO:tensorflow:Assets written to: ./model_yob/assets\n",
      "1118789/1118789 [==============================] - 7s 7us/sample - loss: 1666386.5216 - mae: 1142.7186 - mape: 57.8195 - val_loss: 1620096.6264 - val_mae: 1109.0490 - val_mape: 56.1156\n",
      "Epoch 10/1000\n",
      "1111500/1118789 [============================>.] - ETA: 0s - loss: 1583433.1842 - mae: 1080.4764 - mape: 54.6687INFO:tensorflow:Assets written to: ./model_yob/assets\n",
      "1118789/1118789 [==============================] - 8s 7us/sample - loss: 1583218.1021 - mae: 1080.3047 - mape: 54.6600 - val_loss: 1553648.3397 - val_mae: 1055.3706 - val_mape: 53.3984\n",
      "Epoch 11/1000\n",
      "1115500/1118789 [============================>.] - ETA: 0s - loss: 1524344.6225 - mae: 1029.4275 - mape: 52.0847INFO:tensorflow:Assets written to: ./model_yob/assets\n",
      "1118789/1118789 [==============================] - 7s 7us/sample - loss: 1524340.2463 - mae: 1029.3770 - mape: 52.0822 - val_loss: 1495763.9275 - val_mae: 1001.5052 - val_mape: 50.6719\n",
      "Epoch 12/1000\n",
      "1118500/1118789 [============================>.] - ETA: 0s - loss: 1463544.9128 - mae: 967.3929 - mape: 48.9445INFO:tensorflow:Assets written to: ./model_yob/assets\n",
      "1118789/1118789 [==============================] - 7s 6us/sample - loss: 1463528.6832 - mae: 967.3801 - mape: 48.9438 - val_loss: 1433990.8772 - val_mae: 931.8760 - val_mape: 47.1473\n",
      "Epoch 13/1000\n",
      "1118000/1118789 [============================>.] - ETA: 0s - loss: 1404681.1040 - mae: 891.1635 - mape: 45.0857INFO:tensorflow:Assets written to: ./model_yob/assets\n",
      "1118789/1118789 [==============================] - 7s 7us/sample - loss: 1404669.6088 - mae: 891.1371 - mape: 45.0844 - val_loss: 1380121.7113 - val_mae: 849.8867 - val_mape: 42.9971\n",
      "Epoch 14/1000\n",
      "1115000/1118789 [============================>.] - ETA: 0s - loss: 1359519.4585 - mae: 805.9459 - mape: 40.7720INFO:tensorflow:Assets written to: ./model_yob/assets\n",
      "1118789/1118789 [==============================] - 7s 7us/sample - loss: 1359565.3373 - mae: 805.8467 - mape: 40.7670 - val_loss: 1345391.8390 - val_mae: 763.3134 - val_mape: 38.6149\n",
      "Epoch 15/1000\n",
      "1111500/1118789 [============================>.] - ETA: 0s - loss: 1336726.9436 - mae: 725.1182 - mape: 36.6807INFO:tensorflow:Assets written to: ./model_yob/assets\n",
      "1118789/1118789 [==============================] - 7s 6us/sample - loss: 1336745.3629 - mae: 724.9384 - mape: 36.6716 - val_loss: 1333971.1965 - val_mae: 694.1672 - val_mape: 35.1154\n",
      "Epoch 16/1000\n",
      "1116500/1118789 [============================>.] - ETA: 0s - loss: 916888.9072 - mae: 482.9326 - mape: 24.4307INFO:tensorflow:Assets written to: ./model_yob/assets\n",
      "1118789/1118789 [==============================] - 7s 7us/sample - loss: 915014.5871 - mae: 481.9920 - mape: 24.3831 - val_loss: 673.4928 - val_mae: 21.3771 - val_mape: 1.0826\n",
      "Epoch 17/1000\n",
      "1116000/1118789 [============================>.] - ETA: 0s - loss: 461.8648 - mae: 16.7204 - mape: 0.8472INFO:tensorflow:Assets written to: ./model_yob/assets\n",
      "1118789/1118789 [==============================] - 7s 6us/sample - loss: 461.2559 - mae: 16.7075 - mape: 0.8465 - val_loss: 237.5487 - val_mae: 12.1589 - val_mape: 0.6162\n",
      "Epoch 18/1000\n",
      "1118000/1118789 [============================>.] - ETA: 0s - loss: 317.6881 - mae: 13.7444 - mape: 0.6970INFO:tensorflow:Assets written to: ./model_yob/assets\n",
      "1118789/1118789 [==============================] - 7s 7us/sample - loss: 317.6405 - mae: 13.7434 - mape: 0.6970 - val_loss: 216.5933 - val_mae: 11.6651 - val_mape: 0.5910\n",
      "Epoch 19/1000\n",
      "1114000/1118789 [============================>.] - ETA: 0s - loss: 270.0925 - mae: 12.5982 - mape: 0.6392INFO:tensorflow:Assets written to: ./model_yob/assets\n",
      "1118789/1118789 [==============================] - 7s 6us/sample - loss: 270.0982 - mae: 12.5984 - mape: 0.6392 - val_loss: 210.9708 - val_mae: 11.0503 - val_mape: 0.5608\n",
      "Epoch 20/1000\n",
      "1114500/1118789 [============================>.] - ETA: 0s - loss: 231.9236 - mae: 11.6436 - mape: 0.5908INFO:tensorflow:Assets written to: ./model_yob/assets\n",
      "1118789/1118789 [==============================] - 7s 7us/sample - loss: 231.8223 - mae: 11.6416 - mape: 0.5907 - val_loss: 193.7148 - val_mae: 10.7079 - val_mape: 0.5433\n",
      "Epoch 21/1000\n",
      "1118500/1118789 [============================>.] - ETA: 0s - loss: 197.1099 - mae: 10.8437 - mape: 0.5502INFO:tensorflow:Assets written to: ./model_yob/assets\n",
      "1118789/1118789 [==============================] - 7s 6us/sample - loss: 197.1217 - mae: 10.8438 - mape: 0.5502 - val_loss: 180.2301 - val_mae: 10.3208 - val_mape: 0.5236\n",
      "Epoch 22/1000\n",
      "1113500/1118789 [============================>.] - ETA: 0s - loss: 183.1036 - mae: 10.4193 - mape: 0.5286INFO:tensorflow:Assets written to: ./model_yob/assets\n",
      "1118789/1118789 [==============================] - 7s 7us/sample - loss: 183.1100 - mae: 10.4189 - mape: 0.5286 - val_loss: 174.4833 - val_mae: 10.0679 - val_mape: 0.5110\n",
      "Epoch 23/1000\n",
      "1111000/1118789 [============================>.] - ETA: 0s - loss: 173.8632 - mae: 10.0625 - mape: 0.5105INFO:tensorflow:Assets written to: ./model_yob/assets\n",
      "1118789/1118789 [==============================] - 7s 7us/sample - loss: 173.8201 - mae: 10.0616 - mape: 0.5104 - val_loss: 165.8535 - val_mae: 9.7704 - val_mape: 0.4957\n",
      "Epoch 24/1000\n",
      "1112000/1118789 [============================>.] - ETA: 0s - loss: 164.9649 - mae: 9.7095 - mape: 0.4926INFO:tensorflow:Assets written to: ./model_yob/assets\n",
      "1118789/1118789 [==============================] - 7s 6us/sample - loss: 164.9072 - mae: 9.7073 - mape: 0.4925 - val_loss: 159.6953 - val_mae: 9.5121 - val_mape: 0.4824\n",
      "Epoch 25/1000\n",
      "1116500/1118789 [============================>.] - ETA: 0s - loss: 156.0545 - mae: 9.3530 - mape: 0.4745INFO:tensorflow:Assets written to: ./model_yob/assets\n",
      "1118789/1118789 [==============================] - 7s 7us/sample - loss: 156.0650 - mae: 9.3532 - mape: 0.4745 - val_loss: 152.6510 - val_mae: 9.2529 - val_mape: 0.4692\n",
      "Epoch 26/1000\n",
      "1118789/1118789 [==============================] - 7s 6us/sample - loss: 150.1524 - mae: 9.1067 - mape: 0.4620 - val_loss: 152.7410 - val_mae: 9.2130 - val_mape: 0.4670\n",
      "Epoch 27/1000\n",
      "1111500/1118789 [============================>.] - ETA: 0s - loss: 146.3027 - mae: 8.9442 - mape: 0.4537INFO:tensorflow:Assets written to: ./model_yob/assets\n",
      "1118789/1118789 [==============================] - 8s 7us/sample - loss: 146.2791 - mae: 8.9430 - mape: 0.4537 - val_loss: 144.5408 - val_mae: 8.8901 - val_mape: 0.4509\n",
      "Epoch 28/1000\n",
      "1117500/1118789 [============================>.] - ETA: 0s - loss: 143.8033 - mae: 8.8373 - mape: 0.4483INFO:tensorflow:Assets written to: ./model_yob/assets\n",
      "1118789/1118789 [==============================] - 7s 7us/sample - loss: 143.8170 - mae: 8.8377 - mape: 0.4483 - val_loss: 140.8303 - val_mae: 8.7401 - val_mape: 0.4432\n",
      "Epoch 29/1000\n",
      "1113500/1118789 [============================>.] - ETA: 0s - loss: 142.0698 - mae: 8.7669 - mape: 0.4447INFO:tensorflow:Assets written to: ./model_yob/assets\n",
      "1118789/1118789 [==============================] - 7s 7us/sample - loss: 142.0994 - mae: 8.7674 - mape: 0.4448 - val_loss: 138.3900 - val_mae: 8.6095 - val_mape: 0.4368\n",
      "Epoch 30/1000\n",
      "1114500/1118789 [============================>.] - ETA: 0s - loss: 140.5794 - mae: 8.7033 - mape: 0.4415INFO:tensorflow:Assets written to: ./model_yob/assets\n",
      "1118789/1118789 [==============================] - 8s 7us/sample - loss: 140.5620 - mae: 8.7030 - mape: 0.4415 - val_loss: 137.5336 - val_mae: 8.5795 - val_mape: 0.4351\n",
      "Epoch 31/1000\n",
      "1118000/1118789 [============================>.] - ETA: 0s - loss: 139.6686 - mae: 8.6653 - mape: 0.4396INFO:tensorflow:Assets written to: ./model_yob/assets\n",
      "1118789/1118789 [==============================] - 8s 7us/sample - loss: 139.6752 - mae: 8.6655 - mape: 0.4396 - val_loss: 137.2640 - val_mae: 8.5529 - val_mape: 0.4339\n",
      "Epoch 32/1000\n",
      "1118789/1118789 [==============================] - 6s 6us/sample - loss: 139.6553 - mae: 8.6649 - mape: 0.4396 - val_loss: 137.8975 - val_mae: 8.5656 - val_mape: 0.4345\n",
      "Epoch 33/1000\n",
      "1116000/1118789 [============================>.] - ETA: 0s - loss: 139.4119 - mae: 8.6548 - mape: 0.4391INFO:tensorflow:Assets written to: ./model_yob/assets\n",
      "1118789/1118789 [==============================] - 8s 7us/sample - loss: 139.3945 - mae: 8.6546 - mape: 0.4391 - val_loss: 137.0347 - val_mae: 8.5358 - val_mape: 0.4330\n",
      "Epoch 34/1000\n",
      "1118789/1118789 [==============================] - 8s 7us/sample - loss: 139.0034 - mae: 8.6390 - mape: 0.4383 - val_loss: 139.1772 - val_mae: 8.6336 - val_mape: 0.4379\n",
      "Epoch 35/1000\n",
      "1118789/1118789 [==============================] - 7s 6us/sample - loss: 138.6336 - mae: 8.6258 - mape: 0.4376 - val_loss: 138.5902 - val_mae: 8.6601 - val_mape: 0.4390\n",
      "Epoch 36/1000\n",
      "1112500/1118789 [============================>.] - ETA: 0s - loss: 137.7423 - mae: 8.5870 - mape: 0.4356INFO:tensorflow:Assets written to: ./model_yob/assets\n",
      "1118789/1118789 [==============================] - 7s 7us/sample - loss: 137.7548 - mae: 8.5872 - mape: 0.4356 - val_loss: 135.9707 - val_mae: 8.5416 - val_mape: 0.4331\n",
      "Epoch 37/1000\n",
      "1116000/1118789 [============================>.] - ETA: 0s - loss: 136.5008 - mae: 8.5355 - mape: 0.4330INFO:tensorflow:Assets written to: ./model_yob/assets\n",
      "1118789/1118789 [==============================] - 8s 7us/sample - loss: 136.5062 - mae: 8.5356 - mape: 0.4330 - val_loss: 134.9027 - val_mae: 8.4543 - val_mape: 0.4288\n",
      "Epoch 38/1000\n",
      "1113500/1118789 [============================>.] - ETA: 0s - loss: 135.2563 - mae: 8.4842 - mape: 0.4304INFO:tensorflow:Assets written to: ./model_yob/assets\n",
      "1118789/1118789 [==============================] - 8s 7us/sample - loss: 135.2298 - mae: 8.4832 - mape: 0.4304 - val_loss: 132.9918 - val_mae: 8.3451 - val_mape: 0.4235\n",
      "Epoch 39/1000\n",
      "1113000/1118789 [============================>.] - ETA: 0s - loss: 134.3549 - mae: 8.4462 - mape: 0.4285INFO:tensorflow:Assets written to: ./model_yob/assets\n",
      "1118789/1118789 [==============================] - 7s 7us/sample - loss: 134.3754 - mae: 8.4468 - mape: 0.4285 - val_loss: 131.8407 - val_mae: 8.3197 - val_mape: 0.4221\n",
      "Epoch 40/1000\n",
      "1110500/1118789 [============================>.] - ETA: 0s - loss: 133.5579 - mae: 8.4098 - mape: 0.4266INFO:tensorflow:Assets written to: ./model_yob/assets\n",
      "1118789/1118789 [==============================] - 8s 7us/sample - loss: 133.5616 - mae: 8.4100 - mape: 0.4266 - val_loss: 130.9337 - val_mae: 8.2910 - val_mape: 0.4205\n",
      "Epoch 41/1000\n",
      "1118789/1118789 [==============================] - 7s 6us/sample - loss: 133.2321 - mae: 8.4003 - mape: 0.4261 - val_loss: 131.6029 - val_mae: 8.3082 - val_mape: 0.4214\n",
      "Epoch 42/1000\n",
      "1118789/1118789 [==============================] - 7s 6us/sample - loss: 133.4193 - mae: 8.4069 - mape: 0.4265 - val_loss: 131.2386 - val_mae: 8.3145 - val_mape: 0.4217\n",
      "Epoch 43/1000\n",
      "1118789/1118789 [==============================] - 7s 7us/sample - loss: 133.3976 - mae: 8.4084 - mape: 0.4266 - val_loss: 132.0039 - val_mae: 8.3306 - val_mape: 0.4225\n",
      "Epoch 44/1000\n",
      "1118789/1118789 [==============================] - 7s 6us/sample - loss: 133.6715 - mae: 8.4200 - mape: 0.4272 - val_loss: 131.8633 - val_mae: 8.3294 - val_mape: 0.4225\n",
      "Epoch 45/1000\n",
      "1118789/1118789 [==============================] - 7s 6us/sample - loss: 133.5698 - mae: 8.4166 - mape: 0.4270 - val_loss: 132.4972 - val_mae: 8.3586 - val_mape: 0.4238\n",
      "Epoch 46/1000\n",
      "1118789/1118789 [==============================] - 6s 6us/sample - loss: 133.2776 - mae: 8.4045 - mape: 0.4264 - val_loss: 130.9552 - val_mae: 8.2863 - val_mape: 0.4203\n",
      "Epoch 47/1000\n",
      "1113500/1118789 [============================>.] - ETA: 0s - loss: 132.3676 - mae: 8.3656 - mape: 0.4244INFO:tensorflow:Assets written to: ./model_yob/assets\n",
      "1118789/1118789 [==============================] - 7s 6us/sample - loss: 132.3726 - mae: 8.3660 - mape: 0.4244 - val_loss: 130.0088 - val_mae: 8.2628 - val_mape: 0.4191\n",
      "Epoch 48/1000\n",
      "1111500/1118789 [============================>.] - ETA: 0s - loss: 131.6883 - mae: 8.3365 - mape: 0.4229INFO:tensorflow:Assets written to: ./model_yob/assets\n",
      "1118789/1118789 [==============================] - 8s 7us/sample - loss: 131.7247 - mae: 8.3372 - mape: 0.4230 - val_loss: 129.3203 - val_mae: 8.2081 - val_mape: 0.4164\n",
      "Epoch 49/1000\n",
      "1113000/1118789 [============================>.] - ETA: 0s - loss: 131.0048 - mae: 8.3058 - mape: 0.4214INFO:tensorflow:Assets written to: ./model_yob/assets\n",
      "1118789/1118789 [==============================] - 7s 6us/sample - loss: 131.0135 - mae: 8.3061 - mape: 0.4214 - val_loss: 128.7935 - val_mae: 8.1910 - val_mape: 0.4155\n",
      "Epoch 50/1000\n",
      "1113500/1118789 [============================>.] - ETA: 0s - loss: 130.2229 - mae: 8.2726 - mape: 0.4197INFO:tensorflow:Assets written to: ./model_yob/assets\n",
      "1118789/1118789 [==============================] - 7s 6us/sample - loss: 130.2425 - mae: 8.2723 - mape: 0.4197 - val_loss: 128.3079 - val_mae: 8.1475 - val_mape: 0.4134\n",
      "Epoch 51/1000\n",
      "1118789/1118789 [==============================] - 7s 6us/sample - loss: 130.0466 - mae: 8.2632 - mape: 0.4192 - val_loss: 129.5108 - val_mae: 8.2324 - val_mape: 0.4175\n",
      "Epoch 52/1000\n",
      "1118789/1118789 [==============================] - 6s 6us/sample - loss: 130.4776 - mae: 8.2846 - mape: 0.4203 - val_loss: 128.8636 - val_mae: 8.1802 - val_mape: 0.4150\n",
      "Epoch 53/1000\n",
      "1118789/1118789 [==============================] - 6s 6us/sample - loss: 130.6467 - mae: 8.2911 - mape: 0.4206 - val_loss: 128.5823 - val_mae: 8.1887 - val_mape: 0.4153\n",
      "Epoch 54/1000\n",
      "1118789/1118789 [==============================] - 7s 6us/sample - loss: 130.8724 - mae: 8.3011 - mape: 0.4211 - val_loss: 129.4629 - val_mae: 8.2248 - val_mape: 0.4172\n",
      "Epoch 55/1000\n",
      "1118789/1118789 [==============================] - 7s 6us/sample - loss: 131.1219 - mae: 8.3130 - mape: 0.4217 - val_loss: 130.0728 - val_mae: 8.2383 - val_mape: 0.4179\n",
      "Epoch 56/1000\n",
      "1118789/1118789 [==============================] - 7s 6us/sample - loss: 130.8416 - mae: 8.3014 - mape: 0.4211 - val_loss: 128.8879 - val_mae: 8.1890 - val_mape: 0.4155\n",
      "Epoch 57/1000\n",
      "1118789/1118789 [==============================] - 7s 6us/sample - loss: 130.2762 - mae: 8.2738 - mape: 0.4197 - val_loss: 128.8668 - val_mae: 8.2003 - val_mape: 0.4159\n",
      "Epoch 58/1000\n",
      "1114000/1118789 [============================>.] - ETA: 0s - loss: 129.5265 - mae: 8.2447 - mape: 0.4183INFO:tensorflow:Assets written to: ./model_yob/assets\n",
      "1118789/1118789 [==============================] - 8s 7us/sample - loss: 129.5312 - mae: 8.2447 - mape: 0.4183 - val_loss: 127.6579 - val_mae: 8.1500 - val_mape: 0.4134\n",
      "Epoch 59/1000\n",
      "1112500/1118789 [============================>.] - ETA: 0s - loss: 128.9545 - mae: 8.2175 - mape: 0.4169INFO:tensorflow:Assets written to: ./model_yob/assets\n",
      "1118789/1118789 [==============================] - 8s 7us/sample - loss: 128.9328 - mae: 8.2171 - mape: 0.4169 - val_loss: 127.3581 - val_mae: 8.1063 - val_mape: 0.4113\n",
      "Epoch 60/1000\n",
      "1114500/1118789 [============================>.] - ETA: 0s - loss: 128.5142 - mae: 8.1978 - mape: 0.4159INFO:tensorflow:Assets written to: ./model_yob/assets\n",
      "1118789/1118789 [==============================] - 8s 7us/sample - loss: 128.4661 - mae: 8.1970 - mape: 0.4158 - val_loss: 126.8417 - val_mae: 8.1014 - val_mape: 0.4110\n",
      "Epoch 61/1000\n",
      "1118789/1118789 [==============================] - 7s 6us/sample - loss: 128.3753 - mae: 8.1935 - mape: 0.4157 - val_loss: 127.2354 - val_mae: 8.1271 - val_mape: 0.4122\n",
      "Epoch 62/1000\n",
      "1118789/1118789 [==============================] - 7s 6us/sample - loss: 128.6270 - mae: 8.2029 - mape: 0.4161 - val_loss: 127.4956 - val_mae: 8.1481 - val_mape: 0.4132\n",
      "Epoch 63/1000\n",
      "1118789/1118789 [==============================] - 7s 6us/sample - loss: 129.0196 - mae: 8.2200 - mape: 0.4170 - val_loss: 127.4059 - val_mae: 8.1309 - val_mape: 0.4125\n",
      "Epoch 64/1000\n",
      "1118789/1118789 [==============================] - 7s 6us/sample - loss: 129.1937 - mae: 8.2302 - mape: 0.4175 - val_loss: 127.9658 - val_mae: 8.1521 - val_mape: 0.4135\n",
      "Epoch 65/1000\n",
      "1118789/1118789 [==============================] - 7s 6us/sample - loss: 129.2659 - mae: 8.2315 - mape: 0.4176 - val_loss: 128.1710 - val_mae: 8.1839 - val_mape: 0.4150\n",
      "Epoch 66/1000\n",
      "1118789/1118789 [==============================] - 7s 6us/sample - loss: 129.1756 - mae: 8.2317 - mape: 0.4176 - val_loss: 127.5340 - val_mae: 8.1223 - val_mape: 0.4121\n",
      "Epoch 67/1000\n",
      "1118789/1118789 [==============================] - 7s 6us/sample - loss: 128.6450 - mae: 8.2084 - mape: 0.4164 - val_loss: 126.8417 - val_mae: 8.0984 - val_mape: 0.4108\n",
      "Epoch 68/1000\n",
      "1111500/1118789 [============================>.] - ETA: 0s - loss: 128.0759 - mae: 8.1796 - mape: 0.4150INFO:tensorflow:Assets written to: ./model_yob/assets\n",
      "1118789/1118789 [==============================] - 8s 7us/sample - loss: 128.0689 - mae: 8.1792 - mape: 0.4149 - val_loss: 126.2676 - val_mae: 8.0693 - val_mape: 0.4094\n",
      "Epoch 69/1000\n",
      "1118000/1118789 [============================>.] - ETA: 0s - loss: 127.5909 - mae: 8.1594 - mape: 0.4139INFO:tensorflow:Assets written to: ./model_yob/assets\n",
      "1118789/1118789 [==============================] - 8s 7us/sample - loss: 127.5983 - mae: 8.1595 - mape: 0.4139 - val_loss: 126.0111 - val_mae: 8.0729 - val_mape: 0.4095\n",
      "Epoch 70/1000\n",
      "1117500/1118789 [============================>.] - ETA: 0s - loss: 127.1614 - mae: 8.1413 - mape: 0.4130INFO:tensorflow:Assets written to: ./model_yob/assets\n",
      "1118789/1118789 [==============================] - 8s 7us/sample - loss: 127.1578 - mae: 8.1414 - mape: 0.4130 - val_loss: 125.5890 - val_mae: 8.0408 - val_mape: 0.4079\n",
      "Epoch 71/1000\n",
      "1118789/1118789 [==============================] - 7s 6us/sample - loss: 127.0543 - mae: 8.1360 - mape: 0.4128 - val_loss: 125.8370 - val_mae: 8.0612 - val_mape: 0.4089\n",
      "Epoch 72/1000\n",
      "1118789/1118789 [==============================] - 7s 6us/sample - loss: 127.2526 - mae: 8.1449 - mape: 0.4132 - val_loss: 125.9272 - val_mae: 8.0726 - val_mape: 0.4095\n",
      "Epoch 73/1000\n",
      "1118789/1118789 [==============================] - 7s 6us/sample - loss: 127.6568 - mae: 8.1601 - mape: 0.4140 - val_loss: 126.6196 - val_mae: 8.1107 - val_mape: 0.4113\n",
      "Epoch 74/1000\n",
      "1118789/1118789 [==============================] - 7s 6us/sample - loss: 128.0330 - mae: 8.1807 - mape: 0.4150 - val_loss: 126.4677 - val_mae: 8.0819 - val_mape: 0.4100\n",
      "Epoch 75/1000\n",
      "1118789/1118789 [==============================] - 7s 6us/sample - loss: 127.9606 - mae: 8.1781 - mape: 0.4149 - val_loss: 126.7797 - val_mae: 8.0953 - val_mape: 0.4107\n",
      "Epoch 76/1000\n",
      "1118789/1118789 [==============================] - 7s 6us/sample - loss: 127.8324 - mae: 8.1735 - mape: 0.4147 - val_loss: 126.1815 - val_mae: 8.0713 - val_mape: 0.4095\n",
      "Epoch 77/1000\n",
      "1118789/1118789 [==============================] - 7s 6us/sample - loss: 127.4720 - mae: 8.1554 - mape: 0.4137 - val_loss: 125.9546 - val_mae: 8.0751 - val_mape: 0.4096\n",
      "Epoch 78/1000\n",
      "1118789/1118789 [==============================] - 7s 7us/sample - loss: 127.0760 - mae: 8.1389 - mape: 0.4129 - val_loss: 125.8720 - val_mae: 8.0443 - val_mape: 0.4081\n",
      "Epoch 79/1000\n",
      "1118000/1118789 [============================>.] - ETA: 0s - loss: 126.4410 - mae: 8.1120 - mape: 0.4115INFO:tensorflow:Assets written to: ./model_yob/assets\n",
      "1118789/1118789 [==============================] - 7s 7us/sample - loss: 126.4300 - mae: 8.1118 - mape: 0.4115 - val_loss: 125.1976 - val_mae: 8.0047 - val_mape: 0.4061\n",
      "Epoch 80/1000\n",
      "1114500/1118789 [============================>.] - ETA: 0s - loss: 126.1360 - mae: 8.0950 - mape: 0.4107INFO:tensorflow:Assets written to: ./model_yob/assets\n",
      "1118789/1118789 [==============================] - 7s 7us/sample - loss: 126.1296 - mae: 8.0951 - mape: 0.4107 - val_loss: 124.9754 - val_mae: 8.0295 - val_mape: 0.4073\n",
      "Epoch 81/1000\n",
      "1116500/1118789 [============================>.] - ETA: 0s - loss: 125.8907 - mae: 8.0898 - mape: 0.4104INFO:tensorflow:Assets written to: ./model_yob/assets\n",
      "1118789/1118789 [==============================] - 7s 6us/sample - loss: 125.9049 - mae: 8.0902 - mape: 0.4104 - val_loss: 124.9701 - val_mae: 8.0129 - val_mape: 0.4065\n",
      "Epoch 82/1000\n",
      "1118789/1118789 [==============================] - 6s 6us/sample - loss: 126.4066 - mae: 8.1105 - mape: 0.4115 - val_loss: 125.3658 - val_mae: 8.0215 - val_mape: 0.4070\n",
      "Epoch 83/1000\n",
      "1118789/1118789 [==============================] - 7s 6us/sample - loss: 126.5294 - mae: 8.1167 - mape: 0.4118 - val_loss: 126.0908 - val_mae: 8.0385 - val_mape: 0.4079\n",
      "Epoch 84/1000\n",
      "1118789/1118789 [==============================] - 7s 6us/sample - loss: 126.8692 - mae: 8.1297 - mape: 0.4124 - val_loss: 125.6080 - val_mae: 8.0401 - val_mape: 0.4079\n",
      "Epoch 85/1000\n",
      "1118789/1118789 [==============================] - 7s 6us/sample - loss: 127.0610 - mae: 8.1389 - mape: 0.4129 - val_loss: 126.1163 - val_mae: 8.0717 - val_mape: 0.4095\n",
      "Epoch 86/1000\n",
      "1118789/1118789 [==============================] - 7s 6us/sample - loss: 127.0954 - mae: 8.1381 - mape: 0.4129 - val_loss: 125.6269 - val_mae: 8.0604 - val_mape: 0.4088\n",
      "Epoch 87/1000\n",
      "1118789/1118789 [==============================] - 7s 6us/sample - loss: 126.5766 - mae: 8.1148 - mape: 0.4117 - val_loss: 125.6672 - val_mae: 8.0496 - val_mape: 0.4084\n",
      "Epoch 88/1000\n",
      "1113500/1118789 [============================>.] - ETA: 0s - loss: 126.1727 - mae: 8.1002 - mape: 0.4109INFO:tensorflow:Assets written to: ./model_yob/assets\n",
      "1118789/1118789 [==============================] - 7s 7us/sample - loss: 126.1479 - mae: 8.0997 - mape: 0.4109 - val_loss: 124.9670 - val_mae: 8.0131 - val_mape: 0.4066\n",
      "Epoch 89/1000\n",
      "1118500/1118789 [============================>.] - ETA: 0s - loss: 125.7370 - mae: 8.0800 - mape: 0.4099INFO:tensorflow:Assets written to: ./model_yob/assets\n",
      "1118789/1118789 [==============================] - 8s 7us/sample - loss: 125.7338 - mae: 8.0800 - mape: 0.4099 - val_loss: 124.8651 - val_mae: 8.0193 - val_mape: 0.4068\n",
      "Epoch 90/1000\n",
      "1118500/1118789 [============================>.] - ETA: 0s - loss: 125.2875 - mae: 8.0628 - mape: 0.4090INFO:tensorflow:Assets written to: ./model_yob/assets\n",
      "1118789/1118789 [==============================] - 7s 7us/sample - loss: 125.2976 - mae: 8.0631 - mape: 0.4091 - val_loss: 124.3438 - val_mae: 7.9795 - val_mape: 0.4048\n",
      "Epoch 91/1000\n",
      "1118789/1118789 [==============================] - 7s 6us/sample - loss: 125.3213 - mae: 8.0607 - mape: 0.4089 - val_loss: 124.4826 - val_mae: 7.9951 - val_mape: 0.4056\n",
      "Epoch 92/1000\n",
      "1118789/1118789 [==============================] - 7s 6us/sample - loss: 125.5354 - mae: 8.0707 - mape: 0.4094 - val_loss: 124.7693 - val_mae: 8.0063 - val_mape: 0.4061\n",
      "Epoch 93/1000\n",
      "1118789/1118789 [==============================] - 7s 6us/sample - loss: 125.8339 - mae: 8.0841 - mape: 0.4101 - val_loss: 125.1085 - val_mae: 8.0255 - val_mape: 0.4071\n",
      "Epoch 94/1000\n",
      "1118789/1118789 [==============================] - 7s 6us/sample - loss: 126.1846 - mae: 8.0976 - mape: 0.4108 - val_loss: 125.2838 - val_mae: 8.0156 - val_mape: 0.4067\n",
      "Epoch 95/1000\n",
      "1118789/1118789 [==============================] - 7s 6us/sample - loss: 126.3596 - mae: 8.1061 - mape: 0.4112 - val_loss: 125.3495 - val_mae: 8.0182 - val_mape: 0.4067\n",
      "Epoch 96/1000\n",
      "1118789/1118789 [==============================] - 7s 6us/sample - loss: 126.3121 - mae: 8.1086 - mape: 0.4114 - val_loss: 125.0896 - val_mae: 8.0176 - val_mape: 0.4067\n",
      "Epoch 97/1000\n",
      "1118789/1118789 [==============================] - 7s 6us/sample - loss: 125.9108 - mae: 8.0864 - mape: 0.4102 - val_loss: 124.7346 - val_mae: 7.9979 - val_mape: 0.4058\n",
      "Epoch 98/1000\n",
      "1111000/1118789 [============================>.] - ETA: 0s - loss: 125.6046 - mae: 8.0744 - mape: 0.4096INFO:tensorflow:Assets written to: ./model_yob/assets\n",
      "1118789/1118789 [==============================] - 8s 7us/sample - loss: 125.5857 - mae: 8.0733 - mape: 0.4096 - val_loss: 124.3370 - val_mae: 7.9889 - val_mape: 0.4053\n",
      "Epoch 99/1000\n",
      "1112000/1118789 [============================>.] - ETA: 0s - loss: 125.2491 - mae: 8.0576 - mape: 0.4088INFO:tensorflow:Assets written to: ./model_yob/assets\n",
      "1118789/1118789 [==============================] - 7s 7us/sample - loss: 125.2242 - mae: 8.0575 - mape: 0.4088 - val_loss: 124.1818 - val_mae: 7.9689 - val_mape: 0.4043\n",
      "Epoch 100/1000\n",
      "1116500/1118789 [============================>.] - ETA: 0s - loss: 124.9335 - mae: 8.0430 - mape: 0.4080INFO:tensorflow:Assets written to: ./model_yob/assets\n",
      "1118789/1118789 [==============================] - 7s 7us/sample - loss: 124.9049 - mae: 8.0425 - mape: 0.4080 - val_loss: 124.0127 - val_mae: 7.9577 - val_mape: 0.4037\n",
      "Epoch 101/1000\n",
      "1118789/1118789 [==============================] - 7s 6us/sample - loss: 124.7886 - mae: 8.0371 - mape: 0.4077 - val_loss: 124.0622 - val_mae: 7.9780 - val_mape: 0.4047\n",
      "Epoch 102/1000\n",
      "1118789/1118789 [==============================] - 7s 6us/sample - loss: 125.0939 - mae: 8.0516 - mape: 0.4085 - val_loss: 124.3830 - val_mae: 7.9908 - val_mape: 0.4053\n",
      "Epoch 103/1000\n",
      "1118789/1118789 [==============================] - 7s 6us/sample - loss: 125.2456 - mae: 8.0591 - mape: 0.4089 - val_loss: 124.5280 - val_mae: 7.9990 - val_mape: 0.4057\n",
      "Epoch 104/1000\n",
      "1118789/1118789 [==============================] - 7s 6us/sample - loss: 125.6289 - mae: 8.0745 - mape: 0.4096 - val_loss: 125.0065 - val_mae: 7.9971 - val_mape: 0.4057\n",
      "Epoch 105/1000\n",
      "1118789/1118789 [==============================] - 7s 6us/sample - loss: 125.9666 - mae: 8.0931 - mape: 0.4106 - val_loss: 125.1809 - val_mae: 8.0008 - val_mape: 0.4059\n",
      "Epoch 106/1000\n",
      "1118789/1118789 [==============================] - 7s 6us/sample - loss: 125.8770 - mae: 8.0845 - mape: 0.4101 - val_loss: 124.8918 - val_mae: 8.0342 - val_mape: 0.4075\n",
      "Epoch 107/1000\n",
      "1118789/1118789 [==============================] - 7s 6us/sample - loss: 125.4109 - mae: 8.0650 - mape: 0.4092 - val_loss: 124.4765 - val_mae: 7.9915 - val_mape: 0.4054\n",
      "Epoch 108/1000\n",
      "1118789/1118789 [==============================] - 8s 7us/sample - loss: 125.1173 - mae: 8.0528 - mape: 0.4085 - val_loss: 124.4705 - val_mae: 7.9653 - val_mape: 0.4041\n",
      "Epoch 109/1000\n",
      "1113000/1118789 [============================>.] - ETA: 0s - loss: 124.7111 - mae: 8.0360 - mape: 0.4077INFO:tensorflow:Assets written to: ./model_yob/assets\n",
      "1118789/1118789 [==============================] - 8s 7us/sample - loss: 124.6962 - mae: 8.0361 - mape: 0.4077 - val_loss: 123.8592 - val_mae: 7.9627 - val_mape: 0.4039\n",
      "Epoch 110/1000\n",
      "1114500/1118789 [============================>.] - ETA: 0s - loss: 124.3885 - mae: 8.0213 - mape: 0.4069INFO:tensorflow:Assets written to: ./model_yob/assets\n",
      "1118789/1118789 [==============================] - 8s 7us/sample - loss: 124.4008 - mae: 8.0213 - mape: 0.4069 - val_loss: 123.6472 - val_mae: 7.9395 - val_mape: 0.4028\n",
      "Epoch 111/1000\n",
      "1118789/1118789 [==============================] - 6s 6us/sample - loss: 124.2564 - mae: 8.0162 - mape: 0.4067 - val_loss: 123.8051 - val_mae: 7.9577 - val_mape: 0.4037\n",
      "Epoch 112/1000\n",
      "1118789/1118789 [==============================] - 7s 6us/sample - loss: 124.5912 - mae: 8.0287 - mape: 0.4073 - val_loss: 124.0129 - val_mae: 7.9655 - val_mape: 0.4041\n",
      "Epoch 113/1000\n",
      "1118789/1118789 [==============================] - 7s 6us/sample - loss: 124.9075 - mae: 8.0434 - mape: 0.4081 - val_loss: 124.6167 - val_mae: 7.9743 - val_mape: 0.4046\n",
      "Epoch 114/1000\n",
      "1118789/1118789 [==============================] - 7s 6us/sample - loss: 125.1073 - mae: 8.0529 - mape: 0.4085 - val_loss: 124.4723 - val_mae: 7.9782 - val_mape: 0.4048\n",
      "Epoch 115/1000\n",
      "1118789/1118789 [==============================] - 7s 6us/sample - loss: 125.4677 - mae: 8.0684 - mape: 0.4093 - val_loss: 124.5309 - val_mae: 7.9889 - val_mape: 0.4053\n",
      "Epoch 116/1000\n",
      "1118789/1118789 [==============================] - 7s 6us/sample - loss: 125.4113 - mae: 8.0661 - mape: 0.4092 - val_loss: 124.6399 - val_mae: 7.9632 - val_mape: 0.4041\n",
      "Epoch 117/1000\n",
      "1118789/1118789 [==============================] - 7s 6us/sample - loss: 124.9776 - mae: 8.0495 - mape: 0.4084 - val_loss: 124.0902 - val_mae: 7.9584 - val_mape: 0.4038\n",
      "Epoch 118/1000\n",
      "1118789/1118789 [==============================] - 7s 6us/sample - loss: 124.6622 - mae: 8.0336 - mape: 0.4076 - val_loss: 123.7871 - val_mae: 7.9647 - val_mape: 0.4040\n",
      "Epoch 119/1000\n",
      "1118500/1118789 [============================>.] - ETA: 0s - loss: 124.2356 - mae: 8.0147 - mape: 0.4066INFO:tensorflow:Assets written to: ./model_yob/assets\n",
      "1118789/1118789 [==============================] - 8s 7us/sample - loss: 124.2370 - mae: 8.0148 - mape: 0.4066 - val_loss: 123.6316 - val_mae: 7.9498 - val_mape: 0.4033\n",
      "Epoch 120/1000\n",
      "1118500/1118789 [============================>.] - ETA: 0s - loss: 124.0564 - mae: 8.0058 - mape: 0.4061INFO:tensorflow:Assets written to: ./model_yob/assets\n",
      "1118789/1118789 [==============================] - 8s 7us/sample - loss: 124.0557 - mae: 8.0059 - mape: 0.4062 - val_loss: 123.4202 - val_mae: 7.9366 - val_mape: 0.4026\n",
      "Epoch 121/1000\n",
      "1118789/1118789 [==============================] - 7s 6us/sample - loss: 123.9566 - mae: 8.0030 - mape: 0.4060 - val_loss: 123.5354 - val_mae: 7.9494 - val_mape: 0.4032\n",
      "Epoch 122/1000\n",
      "1118789/1118789 [==============================] - 7s 6us/sample - loss: 124.2303 - mae: 8.0137 - mape: 0.4065 - val_loss: 123.7746 - val_mae: 7.9614 - val_mape: 0.4039\n",
      "Epoch 123/1000\n",
      "1118789/1118789 [==============================] - 7s 6us/sample - loss: 124.5864 - mae: 8.0297 - mape: 0.4074 - val_loss: 123.9090 - val_mae: 7.9671 - val_mape: 0.4041\n",
      "Epoch 124/1000\n",
      "1118789/1118789 [==============================] - 7s 6us/sample - loss: 124.7738 - mae: 8.0395 - mape: 0.4079 - val_loss: 124.1361 - val_mae: 7.9803 - val_mape: 0.4048\n",
      "Epoch 125/1000\n",
      "1118789/1118789 [==============================] - 7s 6us/sample - loss: 124.9987 - mae: 8.0484 - mape: 0.4083 - val_loss: 124.6334 - val_mae: 8.0186 - val_mape: 0.4067\n",
      "Epoch 126/1000\n",
      "1118789/1118789 [==============================] - 7s 6us/sample - loss: 125.0478 - mae: 8.0513 - mape: 0.4085 - val_loss: 124.1564 - val_mae: 7.9606 - val_mape: 0.4039\n",
      "Epoch 127/1000\n",
      "1118789/1118789 [==============================] - 7s 6us/sample - loss: 124.7026 - mae: 8.0368 - mape: 0.4077 - val_loss: 124.0237 - val_mae: 7.9889 - val_mape: 0.4052\n",
      "Epoch 128/1000\n",
      "1118789/1118789 [==============================] - 7s 6us/sample - loss: 124.2688 - mae: 8.0179 - mape: 0.4068 - val_loss: 123.6188 - val_mae: 7.9445 - val_mape: 0.4030\n",
      "Epoch 129/1000\n",
      "1118789/1118789 [==============================] - 7s 6us/sample - loss: 124.0367 - mae: 8.0063 - mape: 0.4062 - val_loss: 123.4607 - val_mae: 7.9541 - val_mape: 0.4035\n",
      "Epoch 130/1000\n",
      "1111500/1118789 [============================>.] - ETA: 0s - loss: 123.7046 - mae: 7.9952 - mape: 0.4056INFO:tensorflow:Assets written to: ./model_yob/assets\n",
      "1118789/1118789 [==============================] - 8s 7us/sample - loss: 123.6879 - mae: 7.9944 - mape: 0.4056 - val_loss: 123.1398 - val_mae: 7.9244 - val_mape: 0.4020\n",
      "Epoch 131/1000\n",
      "1118789/1118789 [==============================] - 7s 6us/sample - loss: 123.6869 - mae: 7.9920 - mape: 0.4054 - val_loss: 123.3767 - val_mae: 7.9397 - val_mape: 0.4028\n",
      "Epoch 132/1000\n",
      "1118789/1118789 [==============================] - 7s 6us/sample - loss: 123.8674 - mae: 7.9992 - mape: 0.4058 - val_loss: 123.8171 - val_mae: 7.9670 - val_mape: 0.4041\n",
      "Epoch 133/1000\n",
      "1118789/1118789 [==============================] - 7s 6us/sample - loss: 124.1929 - mae: 8.0146 - mape: 0.4066 - val_loss: 123.8058 - val_mae: 7.9481 - val_mape: 0.4032\n",
      "Epoch 134/1000\n",
      "1118789/1118789 [==============================] - 7s 6us/sample - loss: 124.4490 - mae: 8.0259 - mape: 0.4072 - val_loss: 123.8970 - val_mae: 7.9572 - val_mape: 0.4036\n",
      "Epoch 135/1000\n",
      "1118789/1118789 [==============================] - 7s 6us/sample - loss: 124.7556 - mae: 8.0385 - mape: 0.4078 - val_loss: 124.1257 - val_mae: 7.9720 - val_mape: 0.4044\n",
      "Epoch 136/1000\n",
      "1118789/1118789 [==============================] - 7s 6us/sample - loss: 124.6080 - mae: 8.0342 - mape: 0.4076 - val_loss: 123.9178 - val_mae: 7.9706 - val_mape: 0.4043\n",
      "Epoch 137/1000\n",
      "1118789/1118789 [==============================] - 7s 6us/sample - loss: 124.3253 - mae: 8.0204 - mape: 0.4069 - val_loss: 123.6193 - val_mae: 7.9568 - val_mape: 0.4036\n",
      "Epoch 138/1000\n",
      "1118789/1118789 [==============================] - 7s 6us/sample - loss: 124.1403 - mae: 8.0118 - mape: 0.4065 - val_loss: 123.4015 - val_mae: 7.9434 - val_mape: 0.4029\n",
      "Epoch 139/1000\n",
      "1118789/1118789 [==============================] - 7s 6us/sample - loss: 123.8030 - mae: 7.9990 - mape: 0.4058 - val_loss: 123.5143 - val_mae: 7.9150 - val_mape: 0.4016\n",
      "Epoch 140/1000\n",
      "1112000/1118789 [============================>.] - ETA: 0s - loss: 123.4515 - mae: 7.9826 - mape: 0.4050INFO:tensorflow:Assets written to: ./model_yob/assets\n",
      "1118789/1118789 [==============================] - 7s 7us/sample - loss: 123.5121 - mae: 7.9840 - mape: 0.4050 - val_loss: 123.0439 - val_mae: 7.9192 - val_mape: 0.4018\n",
      "Epoch 141/1000\n",
      "1114500/1118789 [============================>.] - ETA: 0s - loss: 123.3567 - mae: 7.9785 - mape: 0.4048INFO:tensorflow:Assets written to: ./model_yob/assets\n",
      "1118789/1118789 [==============================] - 7s 7us/sample - loss: 123.3241 - mae: 7.9780 - mape: 0.4047 - val_loss: 123.0371 - val_mae: 7.9016 - val_mape: 0.4009\n",
      "Epoch 142/1000\n",
      "1118789/1118789 [==============================] - 7s 6us/sample - loss: 123.6747 - mae: 7.9906 - mape: 0.4054 - val_loss: 123.4166 - val_mae: 7.9477 - val_mape: 0.4031\n",
      "Epoch 143/1000\n",
      "1118789/1118789 [==============================] - 7s 6us/sample - loss: 123.9996 - mae: 8.0049 - mape: 0.4061 - val_loss: 123.7993 - val_mae: 7.9671 - val_mape: 0.4042\n",
      "Epoch 144/1000\n",
      "1118789/1118789 [==============================] - 7s 6us/sample - loss: 124.1392 - mae: 8.0120 - mape: 0.4065 - val_loss: 123.9574 - val_mae: 7.9476 - val_mape: 0.4032\n",
      "Epoch 145/1000\n",
      "1118789/1118789 [==============================] - 7s 7us/sample - loss: 124.4088 - mae: 8.0214 - mape: 0.4069 - val_loss: 123.9979 - val_mae: 7.9626 - val_mape: 0.4040\n",
      "Epoch 146/1000\n",
      "1118789/1118789 [==============================] - 7s 6us/sample - loss: 124.4136 - mae: 8.0269 - mape: 0.4072 - val_loss: 124.0901 - val_mae: 7.9846 - val_mape: 0.4049\n",
      "Epoch 147/1000\n",
      "1118789/1118789 [==============================] - 6s 6us/sample - loss: 124.0787 - mae: 8.0107 - mape: 0.4064 - val_loss: 123.5167 - val_mae: 7.9464 - val_mape: 0.4031\n",
      "Epoch 148/1000\n",
      "1118789/1118789 [==============================] - 6s 6us/sample - loss: 123.7022 - mae: 7.9937 - mape: 0.4055 - val_loss: 123.2692 - val_mae: 7.9251 - val_mape: 0.4021\n",
      "Epoch 149/1000\n",
      "1118789/1118789 [==============================] - 7s 6us/sample - loss: 123.5867 - mae: 7.9875 - mape: 0.4052 - val_loss: 123.0500 - val_mae: 7.9362 - val_mape: 0.4026\n",
      "Epoch 150/1000\n",
      "1118000/1118789 [============================>.] - ETA: 0s - loss: 123.2151 - mae: 7.9752 - mape: 0.4046INFO:tensorflow:Assets written to: ./model_yob/assets\n",
      "1118789/1118789 [==============================] - 7s 6us/sample - loss: 123.2266 - mae: 7.9755 - mape: 0.4046 - val_loss: 122.8000 - val_mae: 7.9106 - val_mape: 0.4013\n",
      "Epoch 151/1000\n",
      "1118789/1118789 [==============================] - 6s 6us/sample - loss: 123.2411 - mae: 7.9721 - mape: 0.4044 - val_loss: 123.0643 - val_mae: 7.9283 - val_mape: 0.4022\n",
      "Epoch 152/1000\n",
      "1118789/1118789 [==============================] - 6s 6us/sample - loss: 123.3579 - mae: 7.9777 - mape: 0.4047 - val_loss: 123.2413 - val_mae: 7.9281 - val_mape: 0.4022\n",
      "Epoch 153/1000\n",
      "1118789/1118789 [==============================] - 7s 6us/sample - loss: 123.7453 - mae: 7.9957 - mape: 0.4056 - val_loss: 123.1718 - val_mae: 7.9340 - val_mape: 0.4025\n",
      "Epoch 154/1000\n",
      "1118789/1118789 [==============================] - 6s 6us/sample - loss: 123.8985 - mae: 8.0011 - mape: 0.4059 - val_loss: 123.6305 - val_mae: 7.9509 - val_mape: 0.4033\n",
      "Epoch 155/1000\n",
      "1118789/1118789 [==============================] - 6s 6us/sample - loss: 124.1215 - mae: 8.0123 - mape: 0.4065 - val_loss: 123.7752 - val_mae: 7.9477 - val_mape: 0.4032\n",
      "Epoch 156/1000\n",
      "1118789/1118789 [==============================] - 6s 6us/sample - loss: 124.1573 - mae: 8.0157 - mape: 0.4067 - val_loss: 123.6602 - val_mae: 7.9425 - val_mape: 0.4030\n",
      "Epoch 157/1000\n",
      "1118789/1118789 [==============================] - 7s 6us/sample - loss: 123.9583 - mae: 8.0056 - mape: 0.4061 - val_loss: 123.2887 - val_mae: 7.9386 - val_mape: 0.4027\n",
      "Epoch 158/1000\n",
      "1118789/1118789 [==============================] - 6s 6us/sample - loss: 123.6040 - mae: 7.9896 - mape: 0.4053 - val_loss: 123.0504 - val_mae: 7.9157 - val_mape: 0.4016\n",
      "Epoch 159/1000\n",
      "1118789/1118789 [==============================] - 6s 6us/sample - loss: 123.2856 - mae: 7.9751 - mape: 0.4046 - val_loss: 122.8877 - val_mae: 7.9106 - val_mape: 0.4013\n",
      "Epoch 160/1000\n",
      "1118500/1118789 [============================>.] - ETA: 0s - loss: 122.9877 - mae: 7.9632 - mape: 0.4040INFO:tensorflow:Assets written to: ./model_yob/assets\n",
      "1118789/1118789 [==============================] - 7s 7us/sample - loss: 122.9926 - mae: 7.9633 - mape: 0.4040 - val_loss: 122.7171 - val_mae: 7.9097 - val_mape: 0.4012\n",
      "Epoch 161/1000\n",
      "1118789/1118789 [==============================] - 7s 6us/sample - loss: 123.0402 - mae: 7.9661 - mape: 0.4041 - val_loss: 122.8283 - val_mae: 7.9076 - val_mape: 0.4011\n",
      "Epoch 162/1000\n",
      "1118789/1118789 [==============================] - 6s 6us/sample - loss: 123.1489 - mae: 7.9710 - mape: 0.4044 - val_loss: 123.0228 - val_mae: 7.9191 - val_mape: 0.4017\n",
      "Epoch 163/1000\n",
      "1118789/1118789 [==============================] - 7s 7us/sample - loss: 123.5056 - mae: 7.9842 - mape: 0.4051 - val_loss: 123.4640 - val_mae: 7.9346 - val_mape: 0.4025\n",
      "Epoch 164/1000\n",
      "1118789/1118789 [==============================] - 7s 7us/sample - loss: 123.7867 - mae: 7.9977 - mape: 0.4057 - val_loss: 123.3104 - val_mae: 7.9222 - val_mape: 0.4019\n",
      "Epoch 165/1000\n",
      "1118789/1118789 [==============================] - 6s 6us/sample - loss: 123.9579 - mae: 8.0053 - mape: 0.4061 - val_loss: 123.6697 - val_mae: 7.9523 - val_mape: 0.4034\n",
      "Epoch 166/1000\n",
      "1118789/1118789 [==============================] - 6s 6us/sample - loss: 123.9779 - mae: 8.0081 - mape: 0.4063 - val_loss: 123.3748 - val_mae: 7.9410 - val_mape: 0.4028\n",
      "Epoch 167/1000\n",
      "1118789/1118789 [==============================] - 6s 6us/sample - loss: 123.7043 - mae: 7.9942 - mape: 0.4056 - val_loss: 123.2396 - val_mae: 7.9201 - val_mape: 0.4018\n",
      "Epoch 168/1000\n",
      "1118789/1118789 [==============================] - 7s 6us/sample - loss: 123.3648 - mae: 7.9802 - mape: 0.4049 - val_loss: 122.9425 - val_mae: 7.9183 - val_mape: 0.4017\n",
      "Epoch 169/1000\n",
      "1118789/1118789 [==============================] - 6s 6us/sample - loss: 123.1829 - mae: 7.9718 - mape: 0.4044 - val_loss: 122.8312 - val_mae: 7.8986 - val_mape: 0.4007\n",
      "Epoch 170/1000\n",
      "1110500/1118789 [============================>.] - ETA: 0s - loss: 122.8234 - mae: 7.9563 - mape: 0.4036INFO:tensorflow:Assets written to: ./model_yob/assets\n",
      "1118789/1118789 [==============================] - 7s 7us/sample - loss: 122.8079 - mae: 7.9561 - mape: 0.4036 - val_loss: 122.6155 - val_mae: 7.9044 - val_mape: 0.4010\n",
      "Epoch 171/1000\n",
      "1118789/1118789 [==============================] - 6s 6us/sample - loss: 122.7780 - mae: 7.9564 - mape: 0.4036 - val_loss: 122.6851 - val_mae: 7.9019 - val_mape: 0.4008\n",
      "Epoch 172/1000\n",
      "1118789/1118789 [==============================] - 7s 6us/sample - loss: 123.0022 - mae: 7.9648 - mape: 0.4041 - val_loss: 122.9602 - val_mae: 7.9143 - val_mape: 0.4015\n",
      "Epoch 173/1000\n",
      "1118789/1118789 [==============================] - 6s 6us/sample - loss: 123.3025 - mae: 7.9779 - mape: 0.4047 - val_loss: 123.0758 - val_mae: 7.9174 - val_mape: 0.4017\n",
      "Epoch 174/1000\n",
      "1118789/1118789 [==============================] - 6s 6us/sample - loss: 123.5925 - mae: 7.9910 - mape: 0.4054 - val_loss: 123.2941 - val_mae: 7.9379 - val_mape: 0.4027\n",
      "Epoch 175/1000\n",
      "1118789/1118789 [==============================] - 7s 6us/sample - loss: 123.6817 - mae: 7.9935 - mape: 0.4055 - val_loss: 123.5034 - val_mae: 7.9328 - val_mape: 0.4025\n",
      "Epoch 176/1000\n",
      "1118789/1118789 [==============================] - 7s 6us/sample - loss: 123.8141 - mae: 8.0014 - mape: 0.4059 - val_loss: 123.2635 - val_mae: 7.9183 - val_mape: 0.4018\n",
      "Epoch 177/1000\n",
      "1118789/1118789 [==============================] - 7s 6us/sample - loss: 123.4287 - mae: 7.9843 - mape: 0.4051 - val_loss: 123.1503 - val_mae: 7.9509 - val_mape: 0.4033\n",
      "Epoch 178/1000\n",
      "1118789/1118789 [==============================] - 7s 6us/sample - loss: 123.2518 - mae: 7.9736 - mape: 0.4045 - val_loss: 122.8485 - val_mae: 7.9057 - val_mape: 0.4011\n",
      "Epoch 179/1000\n",
      "1118789/1118789 [==============================] - 7s 6us/sample - loss: 122.9634 - mae: 7.9630 - mape: 0.4040 - val_loss: 122.9730 - val_mae: 7.9412 - val_mape: 0.4028\n",
      "Epoch 180/1000\n",
      "1115500/1118789 [============================>.] - ETA: 0s - loss: 122.6550 - mae: 7.9517 - mape: 0.4034INFO:tensorflow:Assets written to: ./model_yob/assets\n",
      "1118789/1118789 [==============================] - 8s 7us/sample - loss: 122.6582 - mae: 7.9514 - mape: 0.4034 - val_loss: 122.4764 - val_mae: 7.8922 - val_mape: 0.4004\n",
      "Epoch 181/1000\n",
      "1118789/1118789 [==============================] - 7s 6us/sample - loss: 122.6227 - mae: 7.9485 - mape: 0.4032 - val_loss: 122.7551 - val_mae: 7.9197 - val_mape: 0.4017\n",
      "Epoch 182/1000\n",
      "1118789/1118789 [==============================] - 6s 6us/sample - loss: 122.8356 - mae: 7.9599 - mape: 0.4038 - val_loss: 122.8208 - val_mae: 7.8971 - val_mape: 0.4007\n",
      "Epoch 183/1000\n",
      "1118789/1118789 [==============================] - 7s 6us/sample - loss: 123.0862 - mae: 7.9670 - mape: 0.4042 - val_loss: 122.8883 - val_mae: 7.9317 - val_mape: 0.4023\n",
      "Epoch 184/1000\n",
      "1118789/1118789 [==============================] - 6s 6us/sample - loss: 123.3197 - mae: 7.9800 - mape: 0.4048 - val_loss: 123.3509 - val_mae: 7.9463 - val_mape: 0.4030\n",
      "Epoch 185/1000\n",
      "1118789/1118789 [==============================] - 6s 6us/sample - loss: 123.4654 - mae: 7.9847 - mape: 0.4051 - val_loss: 123.2025 - val_mae: 7.9238 - val_mape: 0.4020\n",
      "Epoch 186/1000\n",
      "1118789/1118789 [==============================] - 7s 6us/sample - loss: 123.5354 - mae: 7.9880 - mape: 0.4052 - val_loss: 123.0559 - val_mae: 7.9256 - val_mape: 0.4021\n",
      "Epoch 187/1000\n",
      "1118789/1118789 [==============================] - 7s 6us/sample - loss: 123.2808 - mae: 7.9780 - mape: 0.4047 - val_loss: 122.8617 - val_mae: 7.9045 - val_mape: 0.4010\n",
      "Epoch 188/1000\n",
      "1118789/1118789 [==============================] - 6s 6us/sample - loss: 123.0560 - mae: 7.9678 - mape: 0.4042 - val_loss: 122.7202 - val_mae: 7.9152 - val_mape: 0.4015\n",
      "Epoch 189/1000\n",
      "1118000/1118789 [============================>.] - ETA: 0s - loss: 122.7038 - mae: 7.9546 - mape: 0.4036INFO:tensorflow:Assets written to: ./model_yob/assets\n",
      "1118789/1118789 [==============================] - 7s 7us/sample - loss: 122.6928 - mae: 7.9544 - mape: 0.4035 - val_loss: 122.4457 - val_mae: 7.8974 - val_mape: 0.4006\n",
      "Epoch 190/1000\n",
      "1109500/1118789 [============================>.] - ETA: 0s - loss: 122.4347 - mae: 7.9417 - mape: 0.4029INFO:tensorflow:Assets written to: ./model_yob/assets\n",
      "1118789/1118789 [==============================] - 7s 7us/sample - loss: 122.4534 - mae: 7.9422 - mape: 0.4029 - val_loss: 122.4418 - val_mae: 7.8984 - val_mape: 0.4006\n",
      "Epoch 191/1000\n",
      "1118789/1118789 [==============================] - 7s 6us/sample - loss: 122.4948 - mae: 7.9423 - mape: 0.4029 - val_loss: 122.5670 - val_mae: 7.8863 - val_mape: 0.4001\n",
      "Epoch 192/1000\n",
      "1118789/1118789 [==============================] - 7s 6us/sample - loss: 122.7228 - mae: 7.9538 - mape: 0.4035 - val_loss: 122.5695 - val_mae: 7.9080 - val_mape: 0.4012\n",
      "Epoch 193/1000\n",
      "1118789/1118789 [==============================] - 6s 6us/sample - loss: 123.0068 - mae: 7.9656 - mape: 0.4041 - val_loss: 122.9098 - val_mae: 7.9095 - val_mape: 0.4013\n",
      "Epoch 194/1000\n",
      "1118789/1118789 [==============================] - 7s 6us/sample - loss: 123.1470 - mae: 7.9711 - mape: 0.4044 - val_loss: 122.9871 - val_mae: 7.9404 - val_mape: 0.4027\n",
      "Epoch 195/1000\n",
      "1118789/1118789 [==============================] - 7s 6us/sample - loss: 123.3656 - mae: 7.9802 - mape: 0.4049 - val_loss: 123.2512 - val_mae: 7.9213 - val_mape: 0.4019\n",
      "Epoch 196/1000\n",
      "1118789/1118789 [==============================] - 7s 6us/sample - loss: 123.3392 - mae: 7.9796 - mape: 0.4048 - val_loss: 122.9480 - val_mae: 7.9211 - val_mape: 0.4018\n",
      "Epoch 197/1000\n",
      "1118789/1118789 [==============================] - 6s 6us/sample - loss: 123.0614 - mae: 7.9678 - mape: 0.4042 - val_loss: 122.9425 - val_mae: 7.9007 - val_mape: 0.4008\n",
      "Epoch 198/1000\n",
      "1118789/1118789 [==============================] - 7s 6us/sample - loss: 122.8833 - mae: 7.9613 - mape: 0.4039 - val_loss: 122.6156 - val_mae: 7.9101 - val_mape: 0.4013\n",
      "Epoch 199/1000\n",
      "1118789/1118789 [==============================] - 7s 6us/sample - loss: 122.5979 - mae: 7.9487 - mape: 0.4033 - val_loss: 122.4958 - val_mae: 7.8939 - val_mape: 0.4004\n",
      "Epoch 200/1000\n",
      "1116500/1118789 [============================>.] - ETA: 0s - loss: 122.2603 - mae: 7.9353 - mape: 0.4026INFO:tensorflow:Assets written to: ./model_yob/assets\n",
      "1118789/1118789 [==============================] - 8s 7us/sample - loss: 122.2760 - mae: 7.9358 - mape: 0.4026 - val_loss: 122.1567 - val_mae: 7.8860 - val_mape: 0.4001\n",
      "Epoch 201/1000\n",
      "1118789/1118789 [==============================] - 7s 6us/sample - loss: 122.2920 - mae: 7.9347 - mape: 0.4025 - val_loss: 122.4246 - val_mae: 7.8778 - val_mape: 0.3997\n",
      "Epoch 202/1000\n",
      "1118789/1118789 [==============================] - 7s 6us/sample - loss: 122.5238 - mae: 7.9448 - mape: 0.4031 - val_loss: 122.5045 - val_mae: 7.8920 - val_mape: 0.4004\n",
      "Epoch 203/1000\n",
      "1118789/1118789 [==============================] - 7s 6us/sample - loss: 122.8017 - mae: 7.9566 - mape: 0.4037 - val_loss: 122.5944 - val_mae: 7.8930 - val_mape: 0.4004\n",
      "Epoch 204/1000\n",
      "1118789/1118789 [==============================] - 7s 6us/sample - loss: 122.9798 - mae: 7.9661 - mape: 0.4041 - val_loss: 122.8515 - val_mae: 7.9195 - val_mape: 0.4017\n",
      "Epoch 205/1000\n",
      "1118789/1118789 [==============================] - 7s 6us/sample - loss: 123.2025 - mae: 7.9760 - mape: 0.4046 - val_loss: 123.3506 - val_mae: 7.9464 - val_mape: 0.4030\n",
      "Epoch 206/1000\n",
      "1118789/1118789 [==============================] - 7s 6us/sample - loss: 123.2257 - mae: 7.9760 - mape: 0.4046 - val_loss: 122.8130 - val_mae: 7.9138 - val_mape: 0.4014\n",
      "Epoch 207/1000\n",
      "1118789/1118789 [==============================] - 7s 6us/sample - loss: 123.0749 - mae: 7.9690 - mape: 0.4043 - val_loss: 122.6759 - val_mae: 7.9044 - val_mape: 0.4010\n",
      "Epoch 208/1000\n",
      "1118789/1118789 [==============================] - 7s 6us/sample - loss: 122.8195 - mae: 7.9573 - mape: 0.4037 - val_loss: 122.5330 - val_mae: 7.8939 - val_mape: 0.4004\n",
      "Epoch 209/1000\n",
      "1118789/1118789 [==============================] - 7s 6us/sample - loss: 122.4999 - mae: 7.9458 - mape: 0.4031 - val_loss: 122.4030 - val_mae: 7.8788 - val_mape: 0.3997\n",
      "Epoch 210/1000\n",
      "1118789/1118789 [==============================] - 7s 6us/sample - loss: 122.2177 - mae: 7.9312 - mape: 0.4024 - val_loss: 122.1642 - val_mae: 7.8832 - val_mape: 0.3999\n",
      "Epoch 211/1000\n",
      "1118789/1118789 [==============================] - 7s 6us/sample - loss: 122.2104 - mae: 7.9310 - mape: 0.4024 - val_loss: 122.2387 - val_mae: 7.8799 - val_mape: 0.3998\n",
      "Epoch 212/1000\n",
      "1118789/1118789 [==============================] - 7s 6us/sample - loss: 122.4287 - mae: 7.9397 - mape: 0.4028 - val_loss: 122.4693 - val_mae: 7.9054 - val_mape: 0.4010\n",
      "Epoch 213/1000\n",
      "1118789/1118789 [==============================] - 7s 6us/sample - loss: 122.6647 - mae: 7.9500 - mape: 0.4033 - val_loss: 122.8142 - val_mae: 7.9221 - val_mape: 0.4018\n",
      "Epoch 214/1000\n",
      "1118789/1118789 [==============================] - 6s 6us/sample - loss: 122.9309 - mae: 7.9625 - mape: 0.4040 - val_loss: 122.9011 - val_mae: 7.9169 - val_mape: 0.4016\n",
      "Epoch 215/1000\n",
      "1118789/1118789 [==============================] - 6s 6us/sample - loss: 123.0531 - mae: 7.9689 - mape: 0.4043 - val_loss: 122.8991 - val_mae: 7.9190 - val_mape: 0.4017\n",
      "Epoch 216/1000\n",
      "1118789/1118789 [==============================] - 6s 6us/sample - loss: 123.1302 - mae: 7.9722 - mape: 0.4044 - val_loss: 122.6668 - val_mae: 7.9157 - val_mape: 0.4015\n",
      "Epoch 217/1000\n",
      "1118789/1118789 [==============================] - 7s 6us/sample - loss: 122.9409 - mae: 7.9641 - mape: 0.4040 - val_loss: 122.7367 - val_mae: 7.9002 - val_mape: 0.4009\n",
      "Epoch 218/1000\n",
      "1118789/1118789 [==============================] - 6s 6us/sample - loss: 122.6914 - mae: 7.9528 - mape: 0.4035 - val_loss: 122.4216 - val_mae: 7.9071 - val_mape: 0.4011\n",
      "Epoch 219/1000\n",
      "1118789/1118789 [==============================] - 7s 6us/sample - loss: 122.3819 - mae: 7.9407 - mape: 0.4028 - val_loss: 122.3493 - val_mae: 7.8994 - val_mape: 0.4007\n",
      "Epoch 220/1000\n",
      "1116500/1118789 [============================>.] - ETA: 0s - loss: 122.0982 - mae: 7.9289 - mape: 0.4022INFO:tensorflow:Assets written to: ./model_yob/assets\n",
      "1118789/1118789 [==============================] - 7s 7us/sample - loss: 122.1263 - mae: 7.9295 - mape: 0.4023 - val_loss: 122.1159 - val_mae: 7.8705 - val_mape: 0.3993\n",
      "Epoch 221/1000\n",
      "1118789/1118789 [==============================] - 7s 6us/sample - loss: 122.0280 - mae: 7.9242 - mape: 0.4020 - val_loss: 122.1860 - val_mae: 7.8822 - val_mape: 0.3998\n",
      "Epoch 222/1000\n",
      "1118789/1118789 [==============================] - 6s 6us/sample - loss: 122.3781 - mae: 7.9400 - mape: 0.4028 - val_loss: 122.4626 - val_mae: 7.8866 - val_mape: 0.4001\n",
      "Epoch 223/1000\n",
      "1118789/1118789 [==============================] - 7s 6us/sample - loss: 122.5628 - mae: 7.9471 - mape: 0.4032 - val_loss: 122.4748 - val_mae: 7.8953 - val_mape: 0.4006\n",
      "Epoch 224/1000\n",
      "1118789/1118789 [==============================] - 6s 6us/sample - loss: 122.6831 - mae: 7.9506 - mape: 0.4034 - val_loss: 122.9264 - val_mae: 7.9040 - val_mape: 0.4010\n",
      "Epoch 225/1000\n",
      "1118789/1118789 [==============================] - 6s 6us/sample - loss: 122.9440 - mae: 7.9622 - mape: 0.4039 - val_loss: 122.8688 - val_mae: 7.9059 - val_mape: 0.4011\n",
      "Epoch 226/1000\n",
      "1118789/1118789 [==============================] - 6s 6us/sample - loss: 122.8929 - mae: 7.9626 - mape: 0.4040 - val_loss: 122.6770 - val_mae: 7.9071 - val_mape: 0.4011\n",
      "Epoch 227/1000\n",
      "1118789/1118789 [==============================] - 6s 6us/sample - loss: 122.7136 - mae: 7.9529 - mape: 0.4035 - val_loss: 122.5972 - val_mae: 7.9063 - val_mape: 0.4011\n",
      "Epoch 228/1000\n",
      "1118789/1118789 [==============================] - 7s 6us/sample - loss: 122.4611 - mae: 7.9433 - mape: 0.4030 - val_loss: 122.3503 - val_mae: 7.8958 - val_mape: 0.4005\n",
      "Epoch 229/1000\n",
      "1118789/1118789 [==============================] - 7s 6us/sample - loss: 122.2191 - mae: 7.9338 - mape: 0.4025 - val_loss: 122.3614 - val_mae: 7.8696 - val_mape: 0.3993\n",
      "Epoch 230/1000\n",
      "1113500/1118789 [============================>.] - ETA: 0s - loss: 122.0461 - mae: 7.9251 - mape: 0.4021INFO:tensorflow:Assets written to: ./model_yob/assets\n",
      "1118789/1118789 [==============================] - 8s 7us/sample - loss: 122.0560 - mae: 7.9255 - mape: 0.4021 - val_loss: 122.0772 - val_mae: 7.8838 - val_mape: 0.3999\n",
      "Epoch 231/1000\n",
      "1118789/1118789 [==============================] - 7s 6us/sample - loss: 121.9649 - mae: 7.9223 - mape: 0.4019 - val_loss: 122.2694 - val_mae: 7.8917 - val_mape: 0.4003\n",
      "Epoch 232/1000\n",
      "1118789/1118789 [==============================] - 7s 6us/sample - loss: 122.2089 - mae: 7.9310 - mape: 0.4024 - val_loss: 122.4966 - val_mae: 7.9110 - val_mape: 0.4013\n",
      "Epoch 233/1000\n",
      "1118789/1118789 [==============================] - 7s 6us/sample - loss: 122.4038 - mae: 7.9409 - mape: 0.4029 - val_loss: 122.7111 - val_mae: 7.9202 - val_mape: 0.4017\n",
      "Epoch 234/1000\n",
      "1118789/1118789 [==============================] - 7s 6us/sample - loss: 122.6740 - mae: 7.9533 - mape: 0.4035 - val_loss: 122.5930 - val_mae: 7.8817 - val_mape: 0.3999\n",
      "Epoch 235/1000\n",
      "1118789/1118789 [==============================] - 7s 6us/sample - loss: 122.8499 - mae: 7.9583 - mape: 0.4037 - val_loss: 122.7302 - val_mae: 7.9172 - val_mape: 0.4016\n",
      "Epoch 236/1000\n",
      "1118789/1118789 [==============================] - 7s 6us/sample - loss: 122.8050 - mae: 7.9603 - mape: 0.4038 - val_loss: 122.6232 - val_mae: 7.8873 - val_mape: 0.4002\n",
      "Epoch 237/1000\n",
      "1118789/1118789 [==============================] - 7s 6us/sample - loss: 122.6417 - mae: 7.9506 - mape: 0.4034 - val_loss: 122.7806 - val_mae: 7.9294 - val_mape: 0.4021\n",
      "Epoch 238/1000\n",
      "1118789/1118789 [==============================] - 7s 6us/sample - loss: 122.4502 - mae: 7.9425 - mape: 0.4029 - val_loss: 122.2838 - val_mae: 7.8760 - val_mape: 0.3996\n",
      "Epoch 239/1000\n",
      "1118789/1118789 [==============================] - 7s 6us/sample - loss: 122.1347 - mae: 7.9272 - mape: 0.4022 - val_loss: 122.4006 - val_mae: 7.9054 - val_mape: 0.4009\n",
      "Epoch 240/1000\n",
      "1113000/1118789 [============================>.] - ETA: 0s - loss: 121.8840 - mae: 7.9180 - mape: 0.4017INFO:tensorflow:Assets written to: ./model_yob/assets\n",
      "1118789/1118789 [==============================] - 8s 7us/sample - loss: 121.8621 - mae: 7.9177 - mape: 0.4017 - val_loss: 121.9833 - val_mae: 7.8697 - val_mape: 0.3992\n",
      "Epoch 241/1000\n",
      "1118789/1118789 [==============================] - 7s 6us/sample - loss: 121.8734 - mae: 7.9173 - mape: 0.4017 - val_loss: 122.0765 - val_mae: 7.8789 - val_mape: 0.3997\n",
      "Epoch 242/1000\n",
      "1118789/1118789 [==============================] - 7s 6us/sample - loss: 122.1057 - mae: 7.9270 - mape: 0.4022 - val_loss: 122.2509 - val_mae: 7.8854 - val_mape: 0.4000\n",
      "Epoch 243/1000\n",
      "1118789/1118789 [==============================] - 7s 6us/sample - loss: 122.2632 - mae: 7.9327 - mape: 0.4024 - val_loss: 122.3417 - val_mae: 7.8818 - val_mape: 0.3999\n",
      "Epoch 244/1000\n",
      "1118789/1118789 [==============================] - 7s 6us/sample - loss: 122.6167 - mae: 7.9481 - mape: 0.4032 - val_loss: 122.5202 - val_mae: 7.8929 - val_mape: 0.4005\n",
      "Epoch 245/1000\n",
      "1118789/1118789 [==============================] - 7s 6us/sample - loss: 122.7725 - mae: 7.9556 - mape: 0.4036 - val_loss: 122.6662 - val_mae: 7.9105 - val_mape: 0.4013\n",
      "Epoch 246/1000\n",
      "1118789/1118789 [==============================] - 7s 6us/sample - loss: 122.7065 - mae: 7.9542 - mape: 0.4035 - val_loss: 122.4675 - val_mae: 7.8916 - val_mape: 0.4004\n",
      "Epoch 247/1000\n",
      "1118789/1118789 [==============================] - 7s 6us/sample - loss: 122.5071 - mae: 7.9435 - mape: 0.4030 - val_loss: 122.3592 - val_mae: 7.8855 - val_mape: 0.4000\n",
      "Epoch 248/1000\n",
      "1118789/1118789 [==============================] - 7s 6us/sample - loss: 122.2535 - mae: 7.9343 - mape: 0.4025 - val_loss: 122.1735 - val_mae: 7.8840 - val_mape: 0.3999\n",
      "Epoch 249/1000\n",
      "1118789/1118789 [==============================] - 7s 6us/sample - loss: 122.0362 - mae: 7.9244 - mape: 0.4020 - val_loss: 122.2784 - val_mae: 7.8699 - val_mape: 0.3993\n",
      "Epoch 250/1000\n",
      "1118789/1118789 [==============================] - 7s 7us/sample - loss: 121.8412 - mae: 7.9164 - mape: 0.4016 - val_loss: 121.9921 - val_mae: 7.8609 - val_mape: 0.3988\n",
      "Epoch 251/1000\n",
      "1118789/1118789 [==============================] - 7s 6us/sample - loss: 121.7858 - mae: 7.9152 - mape: 0.4016 - val_loss: 122.0906 - val_mae: 7.8672 - val_mape: 0.3991\n",
      "Epoch 252/1000\n",
      "1118789/1118789 [==============================] - 6s 6us/sample - loss: 121.9724 - mae: 7.9201 - mape: 0.4018 - val_loss: 122.2628 - val_mae: 7.8781 - val_mape: 0.3997\n",
      "Epoch 253/1000\n",
      "1118789/1118789 [==============================] - 6s 6us/sample - loss: 122.2280 - mae: 7.9334 - mape: 0.4025 - val_loss: 122.3762 - val_mae: 7.8935 - val_mape: 0.4004\n",
      "Epoch 254/1000\n",
      "1118789/1118789 [==============================] - 7s 6us/sample - loss: 122.4985 - mae: 7.9422 - mape: 0.4029 - val_loss: 122.6327 - val_mae: 7.8810 - val_mape: 0.3999\n",
      "Epoch 255/1000\n",
      "1118789/1118789 [==============================] - 6s 6us/sample - loss: 122.6787 - mae: 7.9520 - mape: 0.4034 - val_loss: 122.6519 - val_mae: 7.8963 - val_mape: 0.4006\n",
      "Epoch 256/1000\n",
      "1118789/1118789 [==============================] - 6s 6us/sample - loss: 122.6640 - mae: 7.9511 - mape: 0.4034 - val_loss: 122.6441 - val_mae: 7.9216 - val_mape: 0.4018\n",
      "Epoch 257/1000\n",
      "1118789/1118789 [==============================] - 6s 6us/sample - loss: 122.3935 - mae: 7.9389 - mape: 0.4028 - val_loss: 122.4380 - val_mae: 7.9139 - val_mape: 0.4014\n",
      "Epoch 258/1000\n",
      "1118789/1118789 [==============================] - 7s 6us/sample - loss: 122.1489 - mae: 7.9316 - mape: 0.4024 - val_loss: 122.2143 - val_mae: 7.8785 - val_mape: 0.3996\n",
      "Epoch 259/1000\n",
      "1118789/1118789 [==============================] - 6s 6us/sample - loss: 121.9868 - mae: 7.9203 - mape: 0.4018 - val_loss: 122.1720 - val_mae: 7.8974 - val_mape: 0.4006\n",
      "Epoch 260/1000\n",
      "1117000/1118789 [============================>.] - ETA: 0s - loss: 121.7990 - mae: 7.9157 - mape: 0.4016INFO:tensorflow:Assets written to: ./model_yob/assets\n",
      "1118789/1118789 [==============================] - 7s 6us/sample - loss: 121.8380 - mae: 7.9159 - mape: 0.4016 - val_loss: 121.9463 - val_mae: 7.8819 - val_mape: 0.3998\n",
      "Epoch 261/1000\n",
      "1118789/1118789 [==============================] - 6s 6us/sample - loss: 121.7752 - mae: 7.9134 - mape: 0.4015 - val_loss: 122.0079 - val_mae: 7.8699 - val_mape: 0.3992\n",
      "Epoch 262/1000\n",
      "1118789/1118789 [==============================] - 7s 6us/sample - loss: 121.8987 - mae: 7.9177 - mape: 0.4017 - val_loss: 122.1742 - val_mae: 7.8691 - val_mape: 0.3993\n",
      "Epoch 263/1000\n",
      "1118789/1118789 [==============================] - 6s 6us/sample - loss: 122.0592 - mae: 7.9252 - mape: 0.4021 - val_loss: 122.2991 - val_mae: 7.8758 - val_mape: 0.3996\n",
      "Epoch 264/1000\n",
      "1118789/1118789 [==============================] - 6s 6us/sample - loss: 122.3441 - mae: 7.9369 - mape: 0.4027 - val_loss: 122.4581 - val_mae: 7.8844 - val_mape: 0.4000\n",
      "Epoch 265/1000\n",
      "1118789/1118789 [==============================] - 6s 6us/sample - loss: 122.5637 - mae: 7.9478 - mape: 0.4032 - val_loss: 122.5753 - val_mae: 7.8865 - val_mape: 0.4001\n",
      "Epoch 266/1000\n",
      "1118789/1118789 [==============================] - 7s 6us/sample - loss: 122.5033 - mae: 7.9441 - mape: 0.4030 - val_loss: 122.6402 - val_mae: 7.8924 - val_mape: 0.4004\n",
      "Epoch 267/1000\n",
      "1118789/1118789 [==============================] - 6s 6us/sample - loss: 122.3353 - mae: 7.9393 - mape: 0.4028 - val_loss: 122.1760 - val_mae: 7.8670 - val_mape: 0.3991\n",
      "Epoch 268/1000\n",
      "1118789/1118789 [==============================] - 6s 6us/sample - loss: 122.0812 - mae: 7.9250 - mape: 0.4021 - val_loss: 122.2305 - val_mae: 7.8670 - val_mape: 0.3991\n",
      "Epoch 269/1000\n",
      "1118789/1118789 [==============================] - 6s 6us/sample - loss: 121.8110 - mae: 7.9162 - mape: 0.4016 - val_loss: 122.0549 - val_mae: 7.8758 - val_mape: 0.3995\n",
      "Epoch 270/1000\n",
      "1118000/1118789 [============================>.] - ETA: 0s - loss: 121.6638 - mae: 7.9080 - mape: 0.4012INFO:tensorflow:Assets written to: ./model_yob/assets\n",
      "1118789/1118789 [==============================] - 8s 7us/sample - loss: 121.6566 - mae: 7.9079 - mape: 0.4012 - val_loss: 121.8189 - val_mae: 7.8618 - val_mape: 0.3988\n",
      "Epoch 271/1000\n",
      "1118789/1118789 [==============================] - 6s 6us/sample - loss: 121.5663 - mae: 7.9047 - mape: 0.4010 - val_loss: 122.0204 - val_mae: 7.8818 - val_mape: 0.3998\n",
      "Epoch 272/1000\n",
      "1118789/1118789 [==============================] - 6s 6us/sample - loss: 121.7908 - mae: 7.9138 - mape: 0.4015 - val_loss: 122.1580 - val_mae: 7.8777 - val_mape: 0.3996\n",
      "Epoch 273/1000\n",
      "1118789/1118789 [==============================] - 7s 6us/sample - loss: 121.9786 - mae: 7.9217 - mape: 0.4019 - val_loss: 122.2240 - val_mae: 7.8941 - val_mape: 0.4004\n",
      "Epoch 274/1000\n",
      "1118789/1118789 [==============================] - 6s 6us/sample - loss: 122.2861 - mae: 7.9364 - mape: 0.4026 - val_loss: 122.4876 - val_mae: 7.9061 - val_mape: 0.4010\n",
      "Epoch 275/1000\n",
      "1118789/1118789 [==============================] - 6s 6us/sample - loss: 122.4016 - mae: 7.9390 - mape: 0.4028 - val_loss: 122.8472 - val_mae: 7.9066 - val_mape: 0.4011\n",
      "Epoch 276/1000\n",
      "1118789/1118789 [==============================] - 6s 6us/sample - loss: 122.4228 - mae: 7.9427 - mape: 0.4030 - val_loss: 122.4319 - val_mae: 7.9106 - val_mape: 0.4013\n",
      "Epoch 277/1000\n",
      "1118789/1118789 [==============================] - 7s 6us/sample - loss: 122.2452 - mae: 7.9333 - mape: 0.4025 - val_loss: 122.2345 - val_mae: 7.8633 - val_mape: 0.3989\n",
      "Epoch 278/1000\n",
      "1118789/1118789 [==============================] - 6s 6us/sample - loss: 121.9551 - mae: 7.9222 - mape: 0.4019 - val_loss: 122.0870 - val_mae: 7.8782 - val_mape: 0.3997\n",
      "Epoch 279/1000\n",
      "1118789/1118789 [==============================] - 6s 6us/sample - loss: 121.7261 - mae: 7.9109 - mape: 0.4013 - val_loss: 121.9603 - val_mae: 7.8621 - val_mape: 0.3989\n",
      "Epoch 280/1000\n",
      "1115000/1118789 [============================>.] - ETA: 0s - loss: 121.5844 - mae: 7.9065 - mape: 0.4011INFO:tensorflow:Assets written to: ./model_yob/assets\n",
      "1118789/1118789 [==============================] - 7s 6us/sample - loss: 121.5702 - mae: 7.9065 - mape: 0.4011 - val_loss: 121.7782 - val_mae: 7.8547 - val_mape: 0.3985\n",
      "Epoch 281/1000\n",
      "1118789/1118789 [==============================] - 7s 6us/sample - loss: 121.5153 - mae: 7.9013 - mape: 0.4008 - val_loss: 121.9158 - val_mae: 7.8622 - val_mape: 0.3989\n",
      "Epoch 282/1000\n",
      "1118789/1118789 [==============================] - 6s 6us/sample - loss: 121.7093 - mae: 7.9098 - mape: 0.4013 - val_loss: 122.1156 - val_mae: 7.8644 - val_mape: 0.3990\n",
      "Epoch 283/1000\n",
      "1118789/1118789 [==============================] - 6s 6us/sample - loss: 121.8869 - mae: 7.9175 - mape: 0.4017 - val_loss: 122.1054 - val_mae: 7.8778 - val_mape: 0.3996\n",
      "Epoch 284/1000\n",
      "1118789/1118789 [==============================] - 6s 6us/sample - loss: 122.0915 - mae: 7.9282 - mape: 0.4022 - val_loss: 122.4111 - val_mae: 7.8750 - val_mape: 0.3995\n",
      "Epoch 285/1000\n",
      "1118789/1118789 [==============================] - 7s 6us/sample - loss: 122.3052 - mae: 7.9355 - mape: 0.4026 - val_loss: 122.3703 - val_mae: 7.8865 - val_mape: 0.4001\n",
      "Epoch 286/1000\n",
      "1118789/1118789 [==============================] - 6s 6us/sample - loss: 122.4246 - mae: 7.9396 - mape: 0.4028 - val_loss: 122.2522 - val_mae: 7.8865 - val_mape: 0.4001\n",
      "Epoch 287/1000\n",
      "1118789/1118789 [==============================] - 6s 6us/sample - loss: 122.0627 - mae: 7.9262 - mape: 0.4021 - val_loss: 122.1264 - val_mae: 7.8816 - val_mape: 0.3998\n",
      "Epoch 288/1000\n",
      "1118789/1118789 [==============================] - 6s 6us/sample - loss: 121.8832 - mae: 7.9181 - mape: 0.4017 - val_loss: 121.9786 - val_mae: 7.8651 - val_mape: 0.3990\n",
      "Epoch 289/1000\n",
      "1118789/1118789 [==============================] - 7s 6us/sample - loss: 121.7073 - mae: 7.9123 - mape: 0.4014 - val_loss: 121.8399 - val_mae: 7.8584 - val_mape: 0.3987\n",
      "Epoch 290/1000\n",
      "1118789/1118789 [==============================] - 6s 6us/sample - loss: 121.5141 - mae: 7.9005 - mape: 0.4008 - val_loss: 121.7852 - val_mae: 7.8600 - val_mape: 0.3987\n",
      "Epoch 291/1000\n",
      "1118789/1118789 [==============================] - 6s 6us/sample - loss: 121.4751 - mae: 7.8985 - mape: 0.4007 - val_loss: 121.9722 - val_mae: 7.8529 - val_mape: 0.3984\n",
      "Epoch 292/1000\n",
      "1118789/1118789 [==============================] - 6s 6us/sample - loss: 121.6746 - mae: 7.9068 - mape: 0.4011 - val_loss: 122.0862 - val_mae: 7.8785 - val_mape: 0.3996\n",
      "Epoch 293/1000\n",
      "1118789/1118789 [==============================] - 7s 6us/sample - loss: 121.8888 - mae: 7.9169 - mape: 0.4016 - val_loss: 122.2356 - val_mae: 7.8911 - val_mape: 0.4002\n",
      "Epoch 294/1000\n",
      "1118789/1118789 [==============================] - 6s 6us/sample - loss: 122.0114 - mae: 7.9232 - mape: 0.4020 - val_loss: 122.2627 - val_mae: 7.8861 - val_mape: 0.4001\n",
      "Epoch 295/1000\n",
      "1118789/1118789 [==============================] - 6s 6us/sample - loss: 122.2683 - mae: 7.9348 - mape: 0.4026 - val_loss: 122.3221 - val_mae: 7.8855 - val_mape: 0.4000\n",
      "Epoch 296/1000\n",
      "1118789/1118789 [==============================] - 6s 6us/sample - loss: 122.1908 - mae: 7.9318 - mape: 0.4024 - val_loss: 122.3496 - val_mae: 7.8771 - val_mape: 0.3996\n",
      "Epoch 297/1000\n",
      "1118789/1118789 [==============================] - 7s 6us/sample - loss: 122.0056 - mae: 7.9231 - mape: 0.4020 - val_loss: 122.1540 - val_mae: 7.8736 - val_mape: 0.3994\n",
      "Epoch 298/1000\n",
      "1118789/1118789 [==============================] - 6s 6us/sample - loss: 121.8757 - mae: 7.9166 - mape: 0.4016 - val_loss: 121.9257 - val_mae: 7.8697 - val_mape: 0.3992\n",
      "Epoch 299/1000\n",
      "1118789/1118789 [==============================] - 6s 6us/sample - loss: 121.6061 - mae: 7.9054 - mape: 0.4011 - val_loss: 121.8698 - val_mae: 7.8546 - val_mape: 0.3985\n",
      "Epoch 300/1000\n",
      "1118789/1118789 [==============================] - 6s 6us/sample - loss: 121.3642 - mae: 7.8960 - mape: 0.4006 - val_loss: 121.8442 - val_mae: 7.8584 - val_mape: 0.3986\n"
     ]
    }
   ],
   "source": [
    "history = model_yob.fit(train_yob[features], train_yob[\"yob\"], shuffle=True, epochs=epochs, batch_size=batch_size,\n",
    "                    validation_data=(val_yob[features], val_yob[\"yob\"]), verbose=1, callbacks=callbacks)"
   ]
  },
  {
   "cell_type": "code",
   "execution_count": 56,
   "metadata": {},
   "outputs": [],
   "source": [
    "model_yob = load_model(\"./model_yob\")"
   ]
  },
  {
   "cell_type": "code",
   "execution_count": 57,
   "metadata": {},
   "outputs": [],
   "source": [
    "train_yob[\"predicted_yob\"] = model_yob.predict(train_yob[features])\n",
    "val_yob[\"predicted_yob\"] = model_yob.predict(val_yob[features])\n",
    "test_yob[\"predicted_yob\"] = model_yob.predict(test_yob[features])"
   ]
  },
  {
   "cell_type": "code",
   "execution_count": 58,
   "metadata": {},
   "outputs": [],
   "source": [
    "df_yob_gender = pd.concat([train_yob, val_yob, test_yob], axis=0)"
   ]
  },
  {
   "cell_type": "code",
   "execution_count": 59,
   "metadata": {},
   "outputs": [],
   "source": [
    "df_yob_gender[\"predicted_gender\"] = np.where(df_yob_gender[\"is_female_probability\"] >= 0.5, 'F', 'M')"
   ]
  },
  {
   "cell_type": "code",
   "execution_count": 60,
   "metadata": {},
   "outputs": [],
   "source": [
    "df_yob_gender[\"predicted_yob\"] = df_yob_gender[\"predicted_yob\"].round(0)"
   ]
  },
  {
   "cell_type": "code",
   "execution_count": 61,
   "metadata": {},
   "outputs": [],
   "source": [
    "df_yob_gender[[\"yob\", \"predicted_yob\", \"gender\", \"predicted_gender\", \"firstname\", \"zipcode\", \"domain\"]].to_csv(\"./data/filled_missing_value.csv\")"
   ]
  },
  {
   "cell_type": "code",
   "execution_count": 62,
   "metadata": {},
   "outputs": [
    {
     "data": {
      "text/html": [
       "<div>\n",
       "<style scoped>\n",
       "    .dataframe tbody tr th:only-of-type {\n",
       "        vertical-align: middle;\n",
       "    }\n",
       "\n",
       "    .dataframe tbody tr th {\n",
       "        vertical-align: top;\n",
       "    }\n",
       "\n",
       "    .dataframe thead th {\n",
       "        text-align: right;\n",
       "    }\n",
       "</style>\n",
       "<table border=\"1\" class=\"dataframe\">\n",
       "  <thead>\n",
       "    <tr style=\"text-align: right;\">\n",
       "      <th></th>\n",
       "      <th>yob</th>\n",
       "      <th>predicted_yob</th>\n",
       "      <th>gender</th>\n",
       "      <th>predicted_gender</th>\n",
       "      <th>firstname</th>\n",
       "      <th>zipcode</th>\n",
       "      <th>domain</th>\n",
       "    </tr>\n",
       "  </thead>\n",
       "  <tbody>\n",
       "    <tr>\n",
       "      <th>585863</th>\n",
       "      <td>1990.0</td>\n",
       "      <td>1973.0</td>\n",
       "      <td>F</td>\n",
       "      <td>F</td>\n",
       "      <td>b22c8efc9455118</td>\n",
       "      <td>0.687998</td>\n",
       "      <td>@gmail.com</td>\n",
       "    </tr>\n",
       "    <tr>\n",
       "      <th>438604</th>\n",
       "      <td>1997.0</td>\n",
       "      <td>1988.0</td>\n",
       "      <td>M</td>\n",
       "      <td>M</td>\n",
       "      <td>ef6e65efc188e7d</td>\n",
       "      <td>-0.779366</td>\n",
       "      <td>@hotmail.fr</td>\n",
       "    </tr>\n",
       "    <tr>\n",
       "      <th>196495</th>\n",
       "      <td>1953.0</td>\n",
       "      <td>1956.0</td>\n",
       "      <td>F</td>\n",
       "      <td>F</td>\n",
       "      <td>d8ea363365c125f</td>\n",
       "      <td>-1.402349</td>\n",
       "      <td>@orange.fr</td>\n",
       "    </tr>\n",
       "    <tr>\n",
       "      <th>1250722</th>\n",
       "      <td>1959.0</td>\n",
       "      <td>1960.0</td>\n",
       "      <td>NaN</td>\n",
       "      <td>F</td>\n",
       "      <td>a21810a01d3fe0d</td>\n",
       "      <td>-1.412926</td>\n",
       "      <td>@hotmail.fr</td>\n",
       "    </tr>\n",
       "    <tr>\n",
       "      <th>1360852</th>\n",
       "      <td>1987.0</td>\n",
       "      <td>1988.0</td>\n",
       "      <td>NaN</td>\n",
       "      <td>F</td>\n",
       "      <td>16f12f5e8379e22</td>\n",
       "      <td>1.298215</td>\n",
       "      <td>@gmail.com</td>\n",
       "    </tr>\n",
       "  </tbody>\n",
       "</table>\n",
       "</div>"
      ],
      "text/plain": [
       "            yob  predicted_yob gender predicted_gender        firstname  \\\n",
       "585863   1990.0         1973.0      F                F  b22c8efc9455118   \n",
       "438604   1997.0         1988.0      M                M  ef6e65efc188e7d   \n",
       "196495   1953.0         1956.0      F                F  d8ea363365c125f   \n",
       "1250722  1959.0         1960.0    NaN                F  a21810a01d3fe0d   \n",
       "1360852  1987.0         1988.0    NaN                F  16f12f5e8379e22   \n",
       "\n",
       "          zipcode       domain  \n",
       "585863   0.687998   @gmail.com  \n",
       "438604  -0.779366  @hotmail.fr  \n",
       "196495  -1.402349   @orange.fr  \n",
       "1250722 -1.412926  @hotmail.fr  \n",
       "1360852  1.298215   @gmail.com  "
      ]
     },
     "execution_count": 62,
     "metadata": {},
     "output_type": "execute_result"
    }
   ],
   "source": [
    "df_yob_gender[[\"yob\", \"predicted_yob\", \"gender\", \"predicted_gender\", \"firstname\", \"zipcode\", \"domain\"]].head()"
   ]
  },
  {
   "cell_type": "code",
   "execution_count": null,
   "metadata": {},
   "outputs": [],
   "source": []
  }
 ],
 "metadata": {
  "kernelspec": {
   "display_name": "Python 3",
   "language": "python",
   "name": "python3"
  },
  "language_info": {
   "codemirror_mode": {
    "name": "ipython",
    "version": 3
   },
   "file_extension": ".py",
   "mimetype": "text/x-python",
   "name": "python",
   "nbconvert_exporter": "python",
   "pygments_lexer": "ipython3",
   "version": "3.7.9"
  }
 },
 "nbformat": 4,
 "nbformat_minor": 4
}
